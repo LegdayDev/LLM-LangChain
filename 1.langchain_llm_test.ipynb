{
 "cells": [
  {
   "cell_type": "code",
   "id": "initial_id",
   "metadata": {
    "collapsed": true,
    "ExecuteTime": {
     "end_time": "2024-12-10T10:07:58.232196Z",
     "start_time": "2024-12-10T10:07:55.608497Z"
    }
   },
   "source": [
    "# 필요 패키지 설치\n",
    "%pip install langchain-openai python-dotenv"
   ],
   "outputs": [
    {
     "name": "stdout",
     "output_type": "stream",
     "text": [
      "Requirement already satisfied: langchain-openai in c:\\users\\datalogics\\miniconda3\\envs\\llm_lab\\lib\\site-packages (0.2.12)\n",
      "Requirement already satisfied: python-dotenv in c:\\users\\datalogics\\miniconda3\\envs\\llm_lab\\lib\\site-packages (1.0.1)\n",
      "Requirement already satisfied: langchain-core<0.4.0,>=0.3.21 in c:\\users\\datalogics\\miniconda3\\envs\\llm_lab\\lib\\site-packages (from langchain-openai) (0.3.22)\n",
      "Requirement already satisfied: openai<2.0.0,>=1.55.3 in c:\\users\\datalogics\\miniconda3\\envs\\llm_lab\\lib\\site-packages (from langchain-openai) (1.57.1)\n",
      "Requirement already satisfied: tiktoken<1,>=0.7 in c:\\users\\datalogics\\miniconda3\\envs\\llm_lab\\lib\\site-packages (from langchain-openai) (0.8.0)\n",
      "Requirement already satisfied: PyYAML>=5.3 in c:\\users\\datalogics\\miniconda3\\envs\\llm_lab\\lib\\site-packages (from langchain-core<0.4.0,>=0.3.21->langchain-openai) (6.0.2)\n",
      "Requirement already satisfied: jsonpatch<2.0,>=1.33 in c:\\users\\datalogics\\miniconda3\\envs\\llm_lab\\lib\\site-packages (from langchain-core<0.4.0,>=0.3.21->langchain-openai) (1.33)\n",
      "Requirement already satisfied: langsmith<0.2.0,>=0.1.125 in c:\\users\\datalogics\\miniconda3\\envs\\llm_lab\\lib\\site-packages (from langchain-core<0.4.0,>=0.3.21->langchain-openai) (0.1.147)\n",
      "Requirement already satisfied: packaging<25,>=23.2 in c:\\users\\datalogics\\miniconda3\\envs\\llm_lab\\lib\\site-packages (from langchain-core<0.4.0,>=0.3.21->langchain-openai) (24.2)\n",
      "Requirement already satisfied: pydantic<3.0.0,>=2.7.4 in c:\\users\\datalogics\\miniconda3\\envs\\llm_lab\\lib\\site-packages (from langchain-core<0.4.0,>=0.3.21->langchain-openai) (2.10.3)\n",
      "Requirement already satisfied: tenacity!=8.4.0,<10.0.0,>=8.1.0 in c:\\users\\datalogics\\miniconda3\\envs\\llm_lab\\lib\\site-packages (from langchain-core<0.4.0,>=0.3.21->langchain-openai) (9.0.0)\n",
      "Requirement already satisfied: typing-extensions>=4.7 in c:\\users\\datalogics\\miniconda3\\envs\\llm_lab\\lib\\site-packages (from langchain-core<0.4.0,>=0.3.21->langchain-openai) (4.12.2)\n",
      "Requirement already satisfied: anyio<5,>=3.5.0 in c:\\users\\datalogics\\miniconda3\\envs\\llm_lab\\lib\\site-packages (from openai<2.0.0,>=1.55.3->langchain-openai) (4.7.0)\n",
      "Requirement already satisfied: distro<2,>=1.7.0 in c:\\users\\datalogics\\miniconda3\\envs\\llm_lab\\lib\\site-packages (from openai<2.0.0,>=1.55.3->langchain-openai) (1.9.0)\n",
      "Requirement already satisfied: httpx<1,>=0.23.0 in c:\\users\\datalogics\\miniconda3\\envs\\llm_lab\\lib\\site-packages (from openai<2.0.0,>=1.55.3->langchain-openai) (0.28.1)\n",
      "Requirement already satisfied: jiter<1,>=0.4.0 in c:\\users\\datalogics\\miniconda3\\envs\\llm_lab\\lib\\site-packages (from openai<2.0.0,>=1.55.3->langchain-openai) (0.8.2)\n",
      "Requirement already satisfied: sniffio in c:\\users\\datalogics\\miniconda3\\envs\\llm_lab\\lib\\site-packages (from openai<2.0.0,>=1.55.3->langchain-openai) (1.3.1)\n",
      "Requirement already satisfied: tqdm>4 in c:\\users\\datalogics\\miniconda3\\envs\\llm_lab\\lib\\site-packages (from openai<2.0.0,>=1.55.3->langchain-openai) (4.67.1)\n",
      "Requirement already satisfied: regex>=2022.1.18 in c:\\users\\datalogics\\miniconda3\\envs\\llm_lab\\lib\\site-packages (from tiktoken<1,>=0.7->langchain-openai) (2024.11.6)\n",
      "Requirement already satisfied: requests>=2.26.0 in c:\\users\\datalogics\\miniconda3\\envs\\llm_lab\\lib\\site-packages (from tiktoken<1,>=0.7->langchain-openai) (2.32.3)\n",
      "Requirement already satisfied: idna>=2.8 in c:\\users\\datalogics\\miniconda3\\envs\\llm_lab\\lib\\site-packages (from anyio<5,>=3.5.0->openai<2.0.0,>=1.55.3->langchain-openai) (3.10)\n",
      "Requirement already satisfied: certifi in c:\\users\\datalogics\\miniconda3\\envs\\llm_lab\\lib\\site-packages (from httpx<1,>=0.23.0->openai<2.0.0,>=1.55.3->langchain-openai) (2024.8.30)\n",
      "Requirement already satisfied: httpcore==1.* in c:\\users\\datalogics\\miniconda3\\envs\\llm_lab\\lib\\site-packages (from httpx<1,>=0.23.0->openai<2.0.0,>=1.55.3->langchain-openai) (1.0.7)\n",
      "Requirement already satisfied: h11<0.15,>=0.13 in c:\\users\\datalogics\\miniconda3\\envs\\llm_lab\\lib\\site-packages (from httpcore==1.*->httpx<1,>=0.23.0->openai<2.0.0,>=1.55.3->langchain-openai) (0.14.0)\n",
      "Requirement already satisfied: jsonpointer>=1.9 in c:\\users\\datalogics\\miniconda3\\envs\\llm_lab\\lib\\site-packages (from jsonpatch<2.0,>=1.33->langchain-core<0.4.0,>=0.3.21->langchain-openai) (3.0.0)\n",
      "Requirement already satisfied: orjson<4.0.0,>=3.9.14 in c:\\users\\datalogics\\miniconda3\\envs\\llm_lab\\lib\\site-packages (from langsmith<0.2.0,>=0.1.125->langchain-core<0.4.0,>=0.3.21->langchain-openai) (3.10.12)\n",
      "Requirement already satisfied: requests-toolbelt<2.0.0,>=1.0.0 in c:\\users\\datalogics\\miniconda3\\envs\\llm_lab\\lib\\site-packages (from langsmith<0.2.0,>=0.1.125->langchain-core<0.4.0,>=0.3.21->langchain-openai) (1.0.0)\n",
      "Requirement already satisfied: annotated-types>=0.6.0 in c:\\users\\datalogics\\miniconda3\\envs\\llm_lab\\lib\\site-packages (from pydantic<3.0.0,>=2.7.4->langchain-core<0.4.0,>=0.3.21->langchain-openai) (0.7.0)\n",
      "Requirement already satisfied: pydantic-core==2.27.1 in c:\\users\\datalogics\\miniconda3\\envs\\llm_lab\\lib\\site-packages (from pydantic<3.0.0,>=2.7.4->langchain-core<0.4.0,>=0.3.21->langchain-openai) (2.27.1)\n",
      "Requirement already satisfied: charset_normalizer<4,>=2 in c:\\users\\datalogics\\miniconda3\\envs\\llm_lab\\lib\\site-packages (from requests>=2.26.0->tiktoken<1,>=0.7->langchain-openai) (3.4.0)\n",
      "Requirement already satisfied: urllib3<3,>=1.21.1 in c:\\users\\datalogics\\miniconda3\\envs\\llm_lab\\lib\\site-packages (from requests>=2.26.0->tiktoken<1,>=0.7->langchain-openai) (2.2.3)\n",
      "Requirement already satisfied: colorama in c:\\users\\datalogics\\miniconda3\\envs\\llm_lab\\lib\\site-packages (from tqdm>4->openai<2.0.0,>=1.55.3->langchain-openai) (0.4.6)\n",
      "Note: you may need to restart the kernel to use updated packages.\n"
     ]
    }
   ],
   "execution_count": 5
  },
  {
   "metadata": {
    "ExecuteTime": {
     "end_time": "2024-12-10T10:07:58.246556Z",
     "start_time": "2024-12-10T10:07:58.241191Z"
    }
   },
   "cell_type": "code",
   "source": [
    "from dotenv import load_dotenv # 환경변수 불러오기\n",
    "\n",
    "load_dotenv()"
   ],
   "id": "1e68e661f6d4d348",
   "outputs": [
    {
     "data": {
      "text/plain": [
       "True"
      ]
     },
     "execution_count": 6,
     "metadata": {},
     "output_type": "execute_result"
    }
   ],
   "execution_count": 6
  },
  {
   "metadata": {
    "ExecuteTime": {
     "end_time": "2024-12-10T10:08:36.515003Z",
     "start_time": "2024-12-10T10:08:35.692214Z"
    }
   },
   "cell_type": "code",
   "source": [
    "from langchain_openai import ChatOpenAI # langchain 불러오기\n",
    "\n",
    "llm = ChatOpenAI()"
   ],
   "id": "81b5601b8ed8e15d",
   "outputs": [],
   "execution_count": 11
  },
  {
   "metadata": {
    "ExecuteTime": {
     "end_time": "2024-12-10T10:09:07.375527Z",
     "start_time": "2024-12-10T10:09:05.299752Z"
    }
   },
   "cell_type": "code",
   "source": "llm.invoke(\"인프런에 어떤 강의가 있나요?\")",
   "id": "a6c4c50024edd44a",
   "outputs": [
    {
     "data": {
      "text/plain": [
       "AIMessage(content='인프런에는 다양한 분야의 강의가 있습니다. 프로그래밍, 디자인, 비즈니스, 마케팅, 언어, 취업, 취미 등 다양한 주제의 강의들이 제공되고 있습니다. 인기 있는 강의들은 파이썬, 자바스크립트, 머신러닝, 디자인, 마케팅 전략, 영어회화 등이 있습니다. 또한 온라인 강의뿐만 아니라 오프라인 강의와 스터디 그룹도 제공하고 있습니다. 관심있는 분야의 강의를 찾아보시면 도움이 될 것입니다.', additional_kwargs={'refusal': None}, response_metadata={'token_usage': {'completion_tokens': 206, 'prompt_tokens': 26, 'total_tokens': 232, 'completion_tokens_details': {'accepted_prediction_tokens': 0, 'audio_tokens': 0, 'reasoning_tokens': 0, 'rejected_prediction_tokens': 0}, 'prompt_tokens_details': {'audio_tokens': 0, 'cached_tokens': 0}}, 'model_name': 'gpt-3.5-turbo-0125', 'system_fingerprint': None, 'finish_reason': 'stop', 'logprobs': None}, id='run-da440ee6-3bbd-4525-8d2c-613bf59e120c-0', usage_metadata={'input_tokens': 26, 'output_tokens': 206, 'total_tokens': 232, 'input_token_details': {'audio': 0, 'cache_read': 0}, 'output_token_details': {'audio': 0, 'reasoning': 0}})"
      ]
     },
     "execution_count": 13,
     "metadata": {},
     "output_type": "execute_result"
    }
   ],
   "execution_count": 13
  }
 ],
 "metadata": {
  "kernelspec": {
   "display_name": "Python 3",
   "language": "python",
   "name": "python3"
  },
  "language_info": {
   "codemirror_mode": {
    "name": "ipython",
    "version": 2
   },
   "file_extension": ".py",
   "mimetype": "text/x-python",
   "name": "python",
   "nbconvert_exporter": "python",
   "pygments_lexer": "ipython2",
   "version": "2.7.6"
  }
 },
 "nbformat": 4,
 "nbformat_minor": 5
}
