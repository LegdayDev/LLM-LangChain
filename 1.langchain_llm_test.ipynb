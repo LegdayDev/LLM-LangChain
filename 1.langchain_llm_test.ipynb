{
 "cells": [
  {
   "metadata": {},
   "cell_type": "markdown",
   "source": "## 1. 패키지 설치",
   "id": "ef66979f03dcffe8"
  },
  {
   "cell_type": "code",
   "id": "initial_id",
   "metadata": {
    "collapsed": true,
    "ExecuteTime": {
     "end_time": "2024-12-11T10:34:47.227264Z",
     "start_time": "2024-12-11T10:34:44.384812Z"
    }
   },
   "source": "%pip install langchain-openai python-dotenv",
   "outputs": [
    {
     "name": "stdout",
     "output_type": "stream",
     "text": [
      "Requirement already satisfied: langchain-openai in c:\\users\\datalogics\\miniconda3\\envs\\llm_lab\\lib\\site-packages (0.2.12)\n",
      "Requirement already satisfied: python-dotenv in c:\\users\\datalogics\\miniconda3\\envs\\llm_lab\\lib\\site-packages (1.0.1)\n",
      "Requirement already satisfied: langchain-core<0.4.0,>=0.3.21 in c:\\users\\datalogics\\miniconda3\\envs\\llm_lab\\lib\\site-packages (from langchain-openai) (0.3.24)\n",
      "Requirement already satisfied: openai<2.0.0,>=1.55.3 in c:\\users\\datalogics\\miniconda3\\envs\\llm_lab\\lib\\site-packages (from langchain-openai) (1.57.1)\n",
      "Requirement already satisfied: tiktoken<1,>=0.7 in c:\\users\\datalogics\\miniconda3\\envs\\llm_lab\\lib\\site-packages (from langchain-openai) (0.8.0)\n",
      "Requirement already satisfied: PyYAML>=5.3 in c:\\users\\datalogics\\miniconda3\\envs\\llm_lab\\lib\\site-packages (from langchain-core<0.4.0,>=0.3.21->langchain-openai) (6.0.2)\n",
      "Requirement already satisfied: jsonpatch<2.0,>=1.33 in c:\\users\\datalogics\\miniconda3\\envs\\llm_lab\\lib\\site-packages (from langchain-core<0.4.0,>=0.3.21->langchain-openai) (1.33)\n",
      "Requirement already satisfied: langsmith<0.3,>=0.1.125 in c:\\users\\datalogics\\miniconda3\\envs\\llm_lab\\lib\\site-packages (from langchain-core<0.4.0,>=0.3.21->langchain-openai) (0.1.147)\n",
      "Requirement already satisfied: packaging<25,>=23.2 in c:\\users\\datalogics\\miniconda3\\envs\\llm_lab\\lib\\site-packages (from langchain-core<0.4.0,>=0.3.21->langchain-openai) (24.2)\n",
      "Requirement already satisfied: pydantic<3.0.0,>=2.7.4 in c:\\users\\datalogics\\miniconda3\\envs\\llm_lab\\lib\\site-packages (from langchain-core<0.4.0,>=0.3.21->langchain-openai) (2.10.3)\n",
      "Requirement already satisfied: tenacity!=8.4.0,<10.0.0,>=8.1.0 in c:\\users\\datalogics\\miniconda3\\envs\\llm_lab\\lib\\site-packages (from langchain-core<0.4.0,>=0.3.21->langchain-openai) (9.0.0)\n",
      "Requirement already satisfied: typing-extensions>=4.7 in c:\\users\\datalogics\\miniconda3\\envs\\llm_lab\\lib\\site-packages (from langchain-core<0.4.0,>=0.3.21->langchain-openai) (4.12.2)\n",
      "Requirement already satisfied: anyio<5,>=3.5.0 in c:\\users\\datalogics\\miniconda3\\envs\\llm_lab\\lib\\site-packages (from openai<2.0.0,>=1.55.3->langchain-openai) (4.7.0)\n",
      "Requirement already satisfied: distro<2,>=1.7.0 in c:\\users\\datalogics\\miniconda3\\envs\\llm_lab\\lib\\site-packages (from openai<2.0.0,>=1.55.3->langchain-openai) (1.9.0)\n",
      "Requirement already satisfied: httpx<1,>=0.23.0 in c:\\users\\datalogics\\miniconda3\\envs\\llm_lab\\lib\\site-packages (from openai<2.0.0,>=1.55.3->langchain-openai) (0.28.1)\n",
      "Requirement already satisfied: jiter<1,>=0.4.0 in c:\\users\\datalogics\\miniconda3\\envs\\llm_lab\\lib\\site-packages (from openai<2.0.0,>=1.55.3->langchain-openai) (0.8.2)\n",
      "Requirement already satisfied: sniffio in c:\\users\\datalogics\\miniconda3\\envs\\llm_lab\\lib\\site-packages (from openai<2.0.0,>=1.55.3->langchain-openai) (1.3.1)\n",
      "Requirement already satisfied: tqdm>4 in c:\\users\\datalogics\\miniconda3\\envs\\llm_lab\\lib\\site-packages (from openai<2.0.0,>=1.55.3->langchain-openai) (4.67.1)\n",
      "Requirement already satisfied: regex>=2022.1.18 in c:\\users\\datalogics\\miniconda3\\envs\\llm_lab\\lib\\site-packages (from tiktoken<1,>=0.7->langchain-openai) (2024.11.6)\n",
      "Requirement already satisfied: requests>=2.26.0 in c:\\users\\datalogics\\miniconda3\\envs\\llm_lab\\lib\\site-packages (from tiktoken<1,>=0.7->langchain-openai) (2.32.3)\n",
      "Requirement already satisfied: idna>=2.8 in c:\\users\\datalogics\\miniconda3\\envs\\llm_lab\\lib\\site-packages (from anyio<5,>=3.5.0->openai<2.0.0,>=1.55.3->langchain-openai) (3.10)\n",
      "Requirement already satisfied: certifi in c:\\users\\datalogics\\miniconda3\\envs\\llm_lab\\lib\\site-packages (from httpx<1,>=0.23.0->openai<2.0.0,>=1.55.3->langchain-openai) (2024.8.30)\n",
      "Requirement already satisfied: httpcore==1.* in c:\\users\\datalogics\\miniconda3\\envs\\llm_lab\\lib\\site-packages (from httpx<1,>=0.23.0->openai<2.0.0,>=1.55.3->langchain-openai) (1.0.7)\n",
      "Requirement already satisfied: h11<0.15,>=0.13 in c:\\users\\datalogics\\miniconda3\\envs\\llm_lab\\lib\\site-packages (from httpcore==1.*->httpx<1,>=0.23.0->openai<2.0.0,>=1.55.3->langchain-openai) (0.14.0)\n",
      "Requirement already satisfied: jsonpointer>=1.9 in c:\\users\\datalogics\\miniconda3\\envs\\llm_lab\\lib\\site-packages (from jsonpatch<2.0,>=1.33->langchain-core<0.4.0,>=0.3.21->langchain-openai) (3.0.0)\n",
      "Requirement already satisfied: orjson<4.0.0,>=3.9.14 in c:\\users\\datalogics\\miniconda3\\envs\\llm_lab\\lib\\site-packages (from langsmith<0.3,>=0.1.125->langchain-core<0.4.0,>=0.3.21->langchain-openai) (3.10.12)\n",
      "Requirement already satisfied: requests-toolbelt<2.0.0,>=1.0.0 in c:\\users\\datalogics\\miniconda3\\envs\\llm_lab\\lib\\site-packages (from langsmith<0.3,>=0.1.125->langchain-core<0.4.0,>=0.3.21->langchain-openai) (1.0.0)\n",
      "Requirement already satisfied: annotated-types>=0.6.0 in c:\\users\\datalogics\\miniconda3\\envs\\llm_lab\\lib\\site-packages (from pydantic<3.0.0,>=2.7.4->langchain-core<0.4.0,>=0.3.21->langchain-openai) (0.7.0)\n",
      "Requirement already satisfied: pydantic-core==2.27.1 in c:\\users\\datalogics\\miniconda3\\envs\\llm_lab\\lib\\site-packages (from pydantic<3.0.0,>=2.7.4->langchain-core<0.4.0,>=0.3.21->langchain-openai) (2.27.1)\n",
      "Requirement already satisfied: charset_normalizer<4,>=2 in c:\\users\\datalogics\\miniconda3\\envs\\llm_lab\\lib\\site-packages (from requests>=2.26.0->tiktoken<1,>=0.7->langchain-openai) (3.4.0)\n",
      "Requirement already satisfied: urllib3<3,>=1.21.1 in c:\\users\\datalogics\\miniconda3\\envs\\llm_lab\\lib\\site-packages (from requests>=2.26.0->tiktoken<1,>=0.7->langchain-openai) (2.2.3)\n",
      "Requirement already satisfied: colorama in c:\\users\\datalogics\\miniconda3\\envs\\llm_lab\\lib\\site-packages (from tqdm>4->openai<2.0.0,>=1.55.3->langchain-openai) (0.4.6)\n",
      "Note: you may need to restart the kernel to use updated packages.\n"
     ]
    }
   ],
   "execution_count": 1
  },
  {
   "metadata": {},
   "cell_type": "markdown",
   "source": [
    "## 2. 환경변수 불러오기\n",
    "- `.env` 파일에 `OPENAI_API_KEY` 등록"
   ],
   "id": "421db26a1b96baf3"
  },
  {
   "metadata": {
    "ExecuteTime": {
     "end_time": "2024-12-11T10:34:47.311288Z",
     "start_time": "2024-12-11T10:34:47.291612Z"
    }
   },
   "cell_type": "code",
   "source": [
    "from dotenv import load_dotenv\n",
    "\n",
    "load_dotenv()"
   ],
   "id": "1e68e661f6d4d348",
   "outputs": [
    {
     "name": "stderr",
     "output_type": "stream",
     "text": [
      "Python-dotenv could not parse statement starting at line 2\n"
     ]
    },
    {
     "data": {
      "text/plain": [
       "True"
      ]
     },
     "execution_count": 2,
     "metadata": {},
     "output_type": "execute_result"
    }
   ],
   "execution_count": 2
  },
  {
   "metadata": {},
   "cell_type": "markdown",
   "source": [
    "## 3. LLM 답변 생성\n",
    "- OpenAI 대시보드에서 발급받은 API Key를 `OPENAI_API_KEY`라고 저장하면 별도의 설정 없이 `ChatOpenAI`를 사용할 수 있음."
   ],
   "id": "57f6283809347248"
  },
  {
   "metadata": {
    "ExecuteTime": {
     "end_time": "2024-12-11T10:34:50.786800Z",
     "start_time": "2024-12-11T10:34:47.582248Z"
    }
   },
   "cell_type": "code",
   "source": [
    "from langchain_openai import ChatOpenAI # langchain 불러오기\n",
    "\n",
    "llm = ChatOpenAI()"
   ],
   "id": "81b5601b8ed8e15d",
   "outputs": [],
   "execution_count": 3
  },
  {
   "metadata": {
    "ExecuteTime": {
     "end_time": "2024-12-11T10:34:53.104607Z",
     "start_time": "2024-12-11T10:34:50.793854Z"
    }
   },
   "cell_type": "code",
   "source": [
    "# invoke() 로 가져오는 답변에는 답변 내용 외에도 여러 내용이 들어있다.\n",
    "ai_message = llm.invoke(\"인프런에 어떤 강의가 있나요?\")"
   ],
   "id": "a6c4c50024edd44a",
   "outputs": [],
   "execution_count": 4
  },
  {
   "metadata": {
    "ExecuteTime": {
     "end_time": "2024-12-11T10:34:53.116684Z",
     "start_time": "2024-12-11T10:34:53.112512Z"
    }
   },
   "cell_type": "code",
   "source": [
    "# 답변내용만 추출할려면 content 파라미터를 이용한다.\n",
    "ai_message.content\n",
    "\n",
    "# 이렇게 설정을 간단히하고 실행하는 이유는 환경설정 파일(.env)에서 key 값을 OPEN_API_KEY 로 지정했기 때문이다."
   ],
   "id": "d3d0325f0edbff35",
   "outputs": [
    {
     "data": {
      "text/plain": [
       "'인프런은 다양한 분야의 강의를 제공하고 있습니다. 프로그래밍, 마케팅, 비즈니스, 디자인, 언어, 자기계발 등 다양한 주제의 강의를 수강할 수 있습니다. 또한, 유명 전문가나 기업의 강의도 제공되어 있어 실무에 도움이 되는 내용을 학습할 수 있습니다. 원하는 주제나 강사를 선택하여 수강할 수 있으니 인프런 홈페이지를 방문하여 자세한 내용을 확인해보세요.'"
      ]
     },
     "execution_count": 5,
     "metadata": {},
     "output_type": "execute_result"
    }
   ],
   "execution_count": 5
  },
  {
   "metadata": {
    "ExecuteTime": {
     "end_time": "2024-12-11T10:34:53.126098Z",
     "start_time": "2024-12-11T10:34:53.123470Z"
    }
   },
   "cell_type": "code",
   "source": "",
   "id": "abd00579edf7dbf5",
   "outputs": [],
   "execution_count": null
  }
 ],
 "metadata": {
  "kernelspec": {
   "display_name": "Python 3",
   "language": "python",
   "name": "python3"
  },
  "language_info": {
   "codemirror_mode": {
    "name": "ipython",
    "version": 2
   },
   "file_extension": ".py",
   "mimetype": "text/x-python",
   "name": "python",
   "nbconvert_exporter": "python",
   "pygments_lexer": "ipython2",
   "version": "2.7.6"
  }
 },
 "nbformat": 4,
 "nbformat_minor": 5
}
