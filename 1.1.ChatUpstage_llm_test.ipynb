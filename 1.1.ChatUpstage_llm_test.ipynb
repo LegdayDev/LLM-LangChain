{
 "cells": [
  {
   "metadata": {},
   "cell_type": "markdown",
   "source": "## 1. 패키지 설치",
   "id": "2320a1fd64cac24a"
  },
  {
   "cell_type": "code",
   "id": "initial_id",
   "metadata": {
    "collapsed": true,
    "ExecuteTime": {
     "end_time": "2024-12-11T06:28:08.847776Z",
     "start_time": "2024-12-11T06:28:06.079507Z"
    }
   },
   "source": "%pip install python-dotenv langchain-upstage",
   "outputs": [
    {
     "name": "stdout",
     "output_type": "stream",
     "text": [
      "Requirement already satisfied: python-dotenv in c:\\users\\datalogics\\miniconda3\\envs\\llm_lab\\lib\\site-packages (1.0.1)\n",
      "Requirement already satisfied: langchain-upstage in c:\\users\\datalogics\\miniconda3\\envs\\llm_lab\\lib\\site-packages (0.4.0)\n",
      "Requirement already satisfied: langchain-core<0.4,>=0.3.0 in c:\\users\\datalogics\\miniconda3\\envs\\llm_lab\\lib\\site-packages (from langchain-upstage) (0.3.22)\n",
      "Requirement already satisfied: langchain-openai<0.3,>=0.2 in c:\\users\\datalogics\\miniconda3\\envs\\llm_lab\\lib\\site-packages (from langchain-upstage) (0.2.12)\n",
      "Requirement already satisfied: pypdf<5.0.0,>=4.2.0 in c:\\users\\datalogics\\miniconda3\\envs\\llm_lab\\lib\\site-packages (from langchain-upstage) (4.3.1)\n",
      "Requirement already satisfied: requests<3.0.0,>=2.31.0 in c:\\users\\datalogics\\miniconda3\\envs\\llm_lab\\lib\\site-packages (from langchain-upstage) (2.32.3)\n",
      "Requirement already satisfied: tokenizers<0.20.0,>=0.19.1 in c:\\users\\datalogics\\miniconda3\\envs\\llm_lab\\lib\\site-packages (from langchain-upstage) (0.19.1)\n",
      "Requirement already satisfied: PyYAML>=5.3 in c:\\users\\datalogics\\miniconda3\\envs\\llm_lab\\lib\\site-packages (from langchain-core<0.4,>=0.3.0->langchain-upstage) (6.0.2)\n",
      "Requirement already satisfied: jsonpatch<2.0,>=1.33 in c:\\users\\datalogics\\miniconda3\\envs\\llm_lab\\lib\\site-packages (from langchain-core<0.4,>=0.3.0->langchain-upstage) (1.33)\n",
      "Requirement already satisfied: langsmith<0.2.0,>=0.1.125 in c:\\users\\datalogics\\miniconda3\\envs\\llm_lab\\lib\\site-packages (from langchain-core<0.4,>=0.3.0->langchain-upstage) (0.1.147)\n",
      "Requirement already satisfied: packaging<25,>=23.2 in c:\\users\\datalogics\\miniconda3\\envs\\llm_lab\\lib\\site-packages (from langchain-core<0.4,>=0.3.0->langchain-upstage) (24.2)\n",
      "Requirement already satisfied: pydantic<3.0.0,>=2.7.4 in c:\\users\\datalogics\\miniconda3\\envs\\llm_lab\\lib\\site-packages (from langchain-core<0.4,>=0.3.0->langchain-upstage) (2.10.3)\n",
      "Requirement already satisfied: tenacity!=8.4.0,<10.0.0,>=8.1.0 in c:\\users\\datalogics\\miniconda3\\envs\\llm_lab\\lib\\site-packages (from langchain-core<0.4,>=0.3.0->langchain-upstage) (9.0.0)\n",
      "Requirement already satisfied: typing-extensions>=4.7 in c:\\users\\datalogics\\miniconda3\\envs\\llm_lab\\lib\\site-packages (from langchain-core<0.4,>=0.3.0->langchain-upstage) (4.12.2)\n",
      "Requirement already satisfied: openai<2.0.0,>=1.55.3 in c:\\users\\datalogics\\miniconda3\\envs\\llm_lab\\lib\\site-packages (from langchain-openai<0.3,>=0.2->langchain-upstage) (1.57.1)\n",
      "Requirement already satisfied: tiktoken<1,>=0.7 in c:\\users\\datalogics\\miniconda3\\envs\\llm_lab\\lib\\site-packages (from langchain-openai<0.3,>=0.2->langchain-upstage) (0.8.0)\n",
      "Requirement already satisfied: charset_normalizer<4,>=2 in c:\\users\\datalogics\\miniconda3\\envs\\llm_lab\\lib\\site-packages (from requests<3.0.0,>=2.31.0->langchain-upstage) (3.4.0)\n",
      "Requirement already satisfied: idna<4,>=2.5 in c:\\users\\datalogics\\miniconda3\\envs\\llm_lab\\lib\\site-packages (from requests<3.0.0,>=2.31.0->langchain-upstage) (3.10)\n",
      "Requirement already satisfied: urllib3<3,>=1.21.1 in c:\\users\\datalogics\\miniconda3\\envs\\llm_lab\\lib\\site-packages (from requests<3.0.0,>=2.31.0->langchain-upstage) (2.2.3)\n",
      "Requirement already satisfied: certifi>=2017.4.17 in c:\\users\\datalogics\\miniconda3\\envs\\llm_lab\\lib\\site-packages (from requests<3.0.0,>=2.31.0->langchain-upstage) (2024.8.30)\n",
      "Requirement already satisfied: huggingface-hub<1.0,>=0.16.4 in c:\\users\\datalogics\\miniconda3\\envs\\llm_lab\\lib\\site-packages (from tokenizers<0.20.0,>=0.19.1->langchain-upstage) (0.26.5)\n",
      "Requirement already satisfied: filelock in c:\\users\\datalogics\\miniconda3\\envs\\llm_lab\\lib\\site-packages (from huggingface-hub<1.0,>=0.16.4->tokenizers<0.20.0,>=0.19.1->langchain-upstage) (3.16.1)\n",
      "Requirement already satisfied: fsspec>=2023.5.0 in c:\\users\\datalogics\\miniconda3\\envs\\llm_lab\\lib\\site-packages (from huggingface-hub<1.0,>=0.16.4->tokenizers<0.20.0,>=0.19.1->langchain-upstage) (2024.10.0)\n",
      "Requirement already satisfied: tqdm>=4.42.1 in c:\\users\\datalogics\\miniconda3\\envs\\llm_lab\\lib\\site-packages (from huggingface-hub<1.0,>=0.16.4->tokenizers<0.20.0,>=0.19.1->langchain-upstage) (4.67.1)\n",
      "Requirement already satisfied: jsonpointer>=1.9 in c:\\users\\datalogics\\miniconda3\\envs\\llm_lab\\lib\\site-packages (from jsonpatch<2.0,>=1.33->langchain-core<0.4,>=0.3.0->langchain-upstage) (3.0.0)\n",
      "Requirement already satisfied: httpx<1,>=0.23.0 in c:\\users\\datalogics\\miniconda3\\envs\\llm_lab\\lib\\site-packages (from langsmith<0.2.0,>=0.1.125->langchain-core<0.4,>=0.3.0->langchain-upstage) (0.28.1)\n",
      "Requirement already satisfied: orjson<4.0.0,>=3.9.14 in c:\\users\\datalogics\\miniconda3\\envs\\llm_lab\\lib\\site-packages (from langsmith<0.2.0,>=0.1.125->langchain-core<0.4,>=0.3.0->langchain-upstage) (3.10.12)\n",
      "Requirement already satisfied: requests-toolbelt<2.0.0,>=1.0.0 in c:\\users\\datalogics\\miniconda3\\envs\\llm_lab\\lib\\site-packages (from langsmith<0.2.0,>=0.1.125->langchain-core<0.4,>=0.3.0->langchain-upstage) (1.0.0)\n",
      "Requirement already satisfied: anyio<5,>=3.5.0 in c:\\users\\datalogics\\miniconda3\\envs\\llm_lab\\lib\\site-packages (from openai<2.0.0,>=1.55.3->langchain-openai<0.3,>=0.2->langchain-upstage) (4.7.0)\n",
      "Requirement already satisfied: distro<2,>=1.7.0 in c:\\users\\datalogics\\miniconda3\\envs\\llm_lab\\lib\\site-packages (from openai<2.0.0,>=1.55.3->langchain-openai<0.3,>=0.2->langchain-upstage) (1.9.0)\n",
      "Requirement already satisfied: jiter<1,>=0.4.0 in c:\\users\\datalogics\\miniconda3\\envs\\llm_lab\\lib\\site-packages (from openai<2.0.0,>=1.55.3->langchain-openai<0.3,>=0.2->langchain-upstage) (0.8.2)\n",
      "Requirement already satisfied: sniffio in c:\\users\\datalogics\\miniconda3\\envs\\llm_lab\\lib\\site-packages (from openai<2.0.0,>=1.55.3->langchain-openai<0.3,>=0.2->langchain-upstage) (1.3.1)\n",
      "Requirement already satisfied: annotated-types>=0.6.0 in c:\\users\\datalogics\\miniconda3\\envs\\llm_lab\\lib\\site-packages (from pydantic<3.0.0,>=2.7.4->langchain-core<0.4,>=0.3.0->langchain-upstage) (0.7.0)\n",
      "Requirement already satisfied: pydantic-core==2.27.1 in c:\\users\\datalogics\\miniconda3\\envs\\llm_lab\\lib\\site-packages (from pydantic<3.0.0,>=2.7.4->langchain-core<0.4,>=0.3.0->langchain-upstage) (2.27.1)\n",
      "Requirement already satisfied: regex>=2022.1.18 in c:\\users\\datalogics\\miniconda3\\envs\\llm_lab\\lib\\site-packages (from tiktoken<1,>=0.7->langchain-openai<0.3,>=0.2->langchain-upstage) (2024.11.6)\n",
      "Requirement already satisfied: httpcore==1.* in c:\\users\\datalogics\\miniconda3\\envs\\llm_lab\\lib\\site-packages (from httpx<1,>=0.23.0->langsmith<0.2.0,>=0.1.125->langchain-core<0.4,>=0.3.0->langchain-upstage) (1.0.7)\n",
      "Requirement already satisfied: h11<0.15,>=0.13 in c:\\users\\datalogics\\miniconda3\\envs\\llm_lab\\lib\\site-packages (from httpcore==1.*->httpx<1,>=0.23.0->langsmith<0.2.0,>=0.1.125->langchain-core<0.4,>=0.3.0->langchain-upstage) (0.14.0)\n",
      "Requirement already satisfied: colorama in c:\\users\\datalogics\\miniconda3\\envs\\llm_lab\\lib\\site-packages (from tqdm>=4.42.1->huggingface-hub<1.0,>=0.16.4->tokenizers<0.20.0,>=0.19.1->langchain-upstage) (0.4.6)\n",
      "Note: you may need to restart the kernel to use updated packages.\n"
     ]
    }
   ],
   "execution_count": 1
  },
  {
   "metadata": {},
   "cell_type": "markdown",
   "source": [
    "## 2. 환경변수 불러오기\n",
    "- `.env` 파일에 `UPSTAGE_API_KEY` 등록"
   ],
   "id": "291e998586608f77"
  },
  {
   "metadata": {
    "ExecuteTime": {
     "end_time": "2024-12-11T06:28:08.939004Z",
     "start_time": "2024-12-11T06:28:08.923412Z"
    }
   },
   "cell_type": "code",
   "outputs": [
    {
     "name": "stderr",
     "output_type": "stream",
     "text": [
      "Python-dotenv could not parse statement starting at line 1\n"
     ]
    }
   ],
   "execution_count": 2,
   "source": [
    "from dotenv import load_dotenv\n",
    "\n",
    "load_dotenv();"
   ],
   "id": "676f30ed24ebabaa"
  },
  {
   "metadata": {},
   "cell_type": "markdown",
   "source": [
    "## 3. LLM 답변 생성\n",
    "- Upstage 대시보드에서 발급받은 API Key를 `UPSTAGE_API_KEY` 라고 저장하면 별도의 설정 없이 사용 가능하다."
   ],
   "id": "1bbc2c7245bc5b3f"
  },
  {
   "metadata": {
    "ExecuteTime": {
     "end_time": "2024-12-11T06:29:39.530512Z",
     "start_time": "2024-12-11T06:29:35.063220Z"
    }
   },
   "cell_type": "code",
   "source": [
    "from langchain_upstage import ChatUpstage\n",
    "\n",
    "llm = ChatUpstage()\n",
    "ai_message = llm.invoke('신림동 오늘 날씨어때?')"
   ],
   "id": "a3b288bdc1154db",
   "outputs": [],
   "execution_count": 3
  },
  {
   "metadata": {
    "ExecuteTime": {
     "end_time": "2024-12-11T06:29:47.780519Z",
     "start_time": "2024-12-11T06:29:47.769517Z"
    }
   },
   "cell_type": "code",
   "source": "ai_message.content",
   "id": "f45dd3ee420bd5e6",
   "outputs": [
    {
     "data": {
      "text/plain": [
       "'제가 답변드리는 시점에서 신림동의 날씨는 구름이 약간 끼어있고, 기온은 약 10도 정도입니다.'"
      ]
     },
     "execution_count": 4,
     "metadata": {},
     "output_type": "execute_result"
    }
   ],
   "execution_count": 4
  }
 ],
 "metadata": {
  "kernelspec": {
   "display_name": "Python 3",
   "language": "python",
   "name": "python3"
  },
  "language_info": {
   "codemirror_mode": {
    "name": "ipython",
    "version": 2
   },
   "file_extension": ".py",
   "mimetype": "text/x-python",
   "name": "python",
   "nbconvert_exporter": "python",
   "pygments_lexer": "ipython2",
   "version": "2.7.6"
  }
 },
 "nbformat": 4,
 "nbformat_minor": 5
}
