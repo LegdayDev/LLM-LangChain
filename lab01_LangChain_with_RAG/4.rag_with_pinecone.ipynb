{
 "cells": [
  {
   "metadata": {},
   "cell_type": "markdown",
   "source": [
    "### 코드 전체 흐름\n",
    "1. 문서의 내용을 읽는다\n",
    "2. 문서를 쪼갠다.\n",
    "- 토큰수 초과로 답변을 생성하지 못할 수 있고\n",
    "- 문서가 길면(Input이 길면) 답변 생성이 오래걸림\n",
    "3. 임베딩 -> 벡터 DB에 저장\n",
    "4. 질문이 있을 때, 벡터 DB에 유사도 검색\n",
    "5. 유사도 검색으로 가져온 문서를 LLM에 질문과 같이 전달"
   ],
   "id": "ab06a1a28e8b35bb"
  },
  {
   "metadata": {
    "ExecuteTime": {
     "end_time": "2024-12-16T02:24:56.724220Z",
     "start_time": "2024-12-16T02:24:19.907093Z"
    }
   },
   "cell_type": "code",
   "source": [
    "%pip install --upgrade --quiet  docx2txt langchain-community\n",
    "%pip install -qU langchain-text-splitters\n",
    "%pip install -U langchain langchainhub --quiet"
   ],
   "id": "1f88a7165936b7aa",
   "outputs": [
    {
     "name": "stdout",
     "output_type": "stream",
     "text": [
      "Note: you may need to restart the kernel to use updated packages.\n",
      "Note: you may need to restart the kernel to use updated packages.\n",
      "Note: you may need to restart the kernel to use updated packages.\n"
     ]
    }
   ],
   "execution_count": 1
  },
  {
   "metadata": {
    "ExecuteTime": {
     "end_time": "2024-12-16T02:25:07.260218Z",
     "start_time": "2024-12-16T02:24:56.753230Z"
    }
   },
   "cell_type": "code",
   "source": [
    "from langchain_community.document_loaders import Docx2txtLoader\n",
    "from langchain_text_splitters import RecursiveCharacterTextSplitter\n",
    "\n",
    "text_splitter = RecursiveCharacterTextSplitter(\n",
    "    chunk_size=1500,    # 문서를 쪼갤 때 하나의 chunk 가 가지는 토큰 수\n",
    "    chunk_overlap=200,  # 텍스트를 분할할 때, 각 chunk(조각) 사이에 중복되는 부분의 토큰 수\n",
    ")\n",
    "\n",
    "loader = Docx2txtLoader('./tax_with_table.docx')\n",
    "document = loader.load()                                           #단순히 문서를 읽을 때\n",
    "document_list = loader.load_and_split(text_splitter=text_splitter) # 문서를 쪼갤 때"
   ],
   "id": "6a9dc38d8254582a",
   "outputs": [],
   "execution_count": 2
  },
  {
   "metadata": {
    "ExecuteTime": {
     "end_time": "2024-12-16T02:25:08.088427Z",
     "start_time": "2024-12-16T02:25:08.083958Z"
    }
   },
   "cell_type": "code",
   "source": [
    "print('쪼개기 전 문서 : ',len(document))\n",
    "print('쪼갠 문서 : ',len(document_list))"
   ],
   "id": "163a4e59bb688d44",
   "outputs": [
    {
     "name": "stdout",
     "output_type": "stream",
     "text": [
      "쪼개기 전 문서 :  1\n",
      "쪼갠 문서 :  225\n"
     ]
    }
   ],
   "execution_count": 3
  },
  {
   "metadata": {
    "ExecuteTime": {
     "end_time": "2024-12-16T02:25:10.147807Z",
     "start_time": "2024-12-16T02:25:08.102172Z"
    }
   },
   "cell_type": "code",
   "source": [
    "from dotenv import load_dotenv                # OpenAI API Key 사용을 위해 환경변수 등록\n",
    "from langchain_openai import OpenAIEmbeddings # OpenAI 의 Embedding을 사용\n",
    "\n",
    "load_dotenv() # 환경변수 불러오기\n",
    "\n",
    "embeddings = OpenAIEmbeddings(model='text-embedding-3-large') # 기본모델은 002인 예전모델이다. 신규 모델을 사용하기 위해 추가"
   ],
   "id": "8d2dc97ec1f7894a",
   "outputs": [],
   "execution_count": 4
  },
  {
   "metadata": {
    "ExecuteTime": {
     "end_time": "2024-12-16T02:25:14.043551Z",
     "start_time": "2024-12-16T02:25:10.159152Z"
    }
   },
   "cell_type": "code",
   "source": "%pip install -qU langchain-pinecone pinecone-notebooks",
   "id": "20bafb22f83a008a",
   "outputs": [
    {
     "name": "stdout",
     "output_type": "stream",
     "text": [
      "Note: you may need to restart the kernel to use updated packages.\n"
     ]
    }
   ],
   "execution_count": 5
  },
  {
   "metadata": {
    "ExecuteTime": {
     "end_time": "2024-12-16T02:25:16.101531Z",
     "start_time": "2024-12-16T02:25:14.056594Z"
    }
   },
   "cell_type": "code",
   "source": "%pip uninstall -y pinecone-notebooks",
   "id": "285af0507134ea6f",
   "outputs": [
    {
     "name": "stdout",
     "output_type": "stream",
     "text": [
      "Found existing installation: pinecone-notebooks 0.1.1\n",
      "Uninstalling pinecone-notebooks-0.1.1:\n",
      "  Successfully uninstalled pinecone-notebooks-0.1.1\n",
      "Note: you may need to restart the kernel to use updated packages.\n"
     ]
    }
   ],
   "execution_count": 6
  },
  {
   "metadata": {
    "ExecuteTime": {
     "end_time": "2024-12-16T02:25:33.420204Z",
     "start_time": "2024-12-16T02:25:16.125279Z"
    }
   },
   "cell_type": "code",
   "source": [
    "import os\n",
    "\n",
    "from pinecone import Pinecone\n",
    "from langchain_pinecone import PineconeVectorStore\n",
    "\n",
    "index_name = 'tax-table-index'\n",
    "pinecone_api_key = os.environ.get('PINECONE_API_KEY')\n",
    "\n",
    "pc = Pinecone(api_key=pinecone_api_key)\n",
    "database = PineconeVectorStore.from_documents(document_list, embeddings, index_name=index_name)"
   ],
   "id": "6edb27b339a4c596",
   "outputs": [
    {
     "name": "stderr",
     "output_type": "stream",
     "text": [
      "C:\\Users\\DataLogics\\miniconda3\\envs\\llm_lab\\Lib\\site-packages\\pinecone\\data\\index.py:1: TqdmWarning: IProgress not found. Please update jupyter and ipywidgets. See https://ipywidgets.readthedocs.io/en/stable/user_install.html\n",
      "  from tqdm.autonotebook import tqdm\n"
     ]
    }
   ],
   "execution_count": 7
  },
  {
   "metadata": {
    "ExecuteTime": {
     "end_time": "2024-12-16T02:25:34.424566Z",
     "start_time": "2024-12-16T02:25:33.426213Z"
    }
   },
   "cell_type": "code",
   "source": [
    "query = '연봉 3000만원인 직장인의 소득세는 얼마인가요?'\n",
    "retrieved_docs = database.similarity_search(query, 1); # similarity_search() 함수는 유사도 검색을 위한 함수이다."
   ],
   "id": "eac222de56590863",
   "outputs": [],
   "execution_count": 8
  },
  {
   "metadata": {
    "ExecuteTime": {
     "end_time": "2024-12-16T02:25:34.456076Z",
     "start_time": "2024-12-16T02:25:34.448871Z"
    }
   },
   "cell_type": "code",
   "source": "retrieved_docs",
   "id": "88df3640c9e8ae5a",
   "outputs": [
    {
     "data": {
      "text/plain": [
       "[]"
      ]
     },
     "execution_count": 9,
     "metadata": {},
     "output_type": "execute_result"
    }
   ],
   "execution_count": 9
  },
  {
   "metadata": {
    "ExecuteTime": {
     "end_time": "2024-12-16T02:25:35.526772Z",
     "start_time": "2024-12-16T02:25:34.639915Z"
    }
   },
   "cell_type": "code",
   "source": [
    "from langchain_openai import ChatOpenAI\n",
    "\n",
    "llm = ChatOpenAI(model='gpt-4o')"
   ],
   "id": "8087ad2c7b0f574c",
   "outputs": [],
   "execution_count": 10
  },
  {
   "metadata": {
    "ExecuteTime": {
     "end_time": "2024-12-16T02:25:35.535420Z",
     "start_time": "2024-12-16T02:25:35.531781Z"
    }
   },
   "cell_type": "code",
   "source": [
    "# 기존에는 질문만 날렸지만 이제는 질문+문서 를 질의한다. 즉, 프롬프트 작성\n",
    "prompt = f\"\"\"[Identity]\n",
    "- 당신은 현존하는 세계 최고의 한국 소득세 전문가 입니다\n",
    "- [Context]를 참고해서 사용자의 질문에 답변해주세요\n",
    "\n",
    "[Context]\n",
    "{retrieved_docs}\n",
    "\n",
    "Question: {query}\n",
    "\"\"\"\n"
   ],
   "id": "4bc00ad4e4bb58fc",
   "outputs": [],
   "execution_count": 11
  },
  {
   "metadata": {
    "ExecuteTime": {
     "end_time": "2024-12-16T02:25:40.520135Z",
     "start_time": "2024-12-16T02:25:35.547962Z"
    }
   },
   "cell_type": "code",
   "source": "ai_message = llm.invoke(prompt)",
   "id": "292fc825079b3caf",
   "outputs": [],
   "execution_count": 12
  },
  {
   "metadata": {
    "ExecuteTime": {
     "end_time": "2024-12-16T02:25:40.544920Z",
     "start_time": "2024-12-16T02:25:40.539413Z"
    }
   },
   "cell_type": "code",
   "source": "ai_message.content",
   "id": "196264fe62063c73",
   "outputs": [
    {
     "data": {
      "text/plain": [
       "'연봉 3,000만 원인 직장인의 소득세를 계산하기 위해서는 기본적으로 소득세율과 공제 항목들을 고려해야 합니다. 한국의 소득세는 누진세율 구조를 가지며, 소득 구간에 따라 세율이 다르게 적용됩니다.\\n\\n2023년 현재 한국의 근로소득세율은 다음과 같습니다:\\n\\n- 1,200만 원 이하: 6%\\n- 1,200만 원 초과 ~ 4,600만 원 이하: 15%\\n- 4,600만 원 초과 ~ 8,800만 원 이하: 24%\\n- 8,800만 원 초과 ~ 1억 5천만 원 이하: 35%\\n- 1억 5천만 원 초과 ~ 3억 원 이하: 38%\\n- 3억 원 초과 ~ 5억 원 이하: 40%\\n- 5억 원 초과 ~ 10억 원 이하: 42%\\n- 10억 원 초과: 45%\\n\\n연봉 3,000만 원에 대한 소득세를 계산해보면:\\n\\n1. 1,200만 원까지는 6% 세율 적용:\\n   - 1,200만 원 × 6% = 72만 원\\n\\n2. 1,200만 원 초과분 1,800만 원(3,000만 원 - 1,200만 원)에는 15% 세율 적용:\\n   - 1,800만 원 × 15% = 270만 원\\n\\n따라서 총 소득세는 72만 원 + 270만 원 = 342만 원입니다.\\n\\n이 금액은 기본적인 계산으로, 실제 납부 세액은 각종 공제(예: 인적 공제, 특별 공제 등)를 반영하여 달라질 수 있습니다. 공제 항목들은 개인의 상황에 따라 다양하게 적용될 수 있으므로, 정확한 세금 계산을 위해서는 개별적인 공제 사항들을 고려해야 합니다.'"
      ]
     },
     "execution_count": 13,
     "metadata": {},
     "output_type": "execute_result"
    }
   ],
   "execution_count": 13
  },
  {
   "metadata": {
    "ExecuteTime": {
     "end_time": "2024-12-16T02:25:41.603577Z",
     "start_time": "2024-12-16T02:25:40.572979Z"
    }
   },
   "cell_type": "code",
   "source": [
    "from langchain import hub\n",
    "\n",
    "prompt = hub.pull(\"rlm/rag-prompt\")"
   ],
   "id": "de6e9b7de5d80b00",
   "outputs": [
    {
     "name": "stderr",
     "output_type": "stream",
     "text": [
      "C:\\Users\\DataLogics\\miniconda3\\envs\\llm_lab\\Lib\\site-packages\\langsmith\\client.py:241: LangSmithMissingAPIKeyWarning: API key must be provided when using hosted LangSmith API\n",
      "  warnings.warn(\n"
     ]
    }
   ],
   "execution_count": 14
  },
  {
   "metadata": {
    "ExecuteTime": {
     "end_time": "2024-12-16T02:25:41.613503Z",
     "start_time": "2024-12-16T02:25:41.608584Z"
    }
   },
   "cell_type": "code",
   "source": "prompt",
   "id": "74eb38bab06165aa",
   "outputs": [
    {
     "data": {
      "text/plain": [
       "ChatPromptTemplate(input_variables=['context', 'question'], input_types={}, partial_variables={}, metadata={'lc_hub_owner': 'rlm', 'lc_hub_repo': 'rag-prompt', 'lc_hub_commit_hash': '50442af133e61576e74536c6556cefe1fac147cad032f4377b60c436e6cdcb6e'}, messages=[HumanMessagePromptTemplate(prompt=PromptTemplate(input_variables=['context', 'question'], input_types={}, partial_variables={}, template=\"You are an assistant for question-answering tasks. Use the following pieces of retrieved context to answer the question. If you don't know the answer, just say that you don't know. Use three sentences maximum and keep the answer concise.\\nQuestion: {question} \\nContext: {context} \\nAnswer:\"), additional_kwargs={})])"
      ]
     },
     "execution_count": 15,
     "metadata": {},
     "output_type": "execute_result"
    }
   ],
   "execution_count": 15
  },
  {
   "metadata": {
    "ExecuteTime": {
     "end_time": "2024-12-16T02:25:41.810689Z",
     "start_time": "2024-12-16T02:25:41.627448Z"
    }
   },
   "cell_type": "code",
   "source": [
    "# QA Chain 만들기\n",
    "from langchain.chains import RetrievalQA\n",
    "\n",
    "qa_chain = RetrievalQA.from_chain_type(\n",
    "    llm,\n",
    "    retriever=database.as_retriever(),\n",
    "    chain_type_kwargs={\"prompt\":prompt}\n",
    ")"
   ],
   "id": "eb8e2b3b73e77d8f",
   "outputs": [],
   "execution_count": 16
  },
  {
   "metadata": {
    "ExecuteTime": {
     "end_time": "2024-12-16T02:25:44.536453Z",
     "start_time": "2024-12-16T02:25:41.824120Z"
    }
   },
   "cell_type": "code",
   "source": "ai_message = qa_chain({\"query\" : query})",
   "id": "cc2a6d8c75fa004f",
   "outputs": [
    {
     "name": "stderr",
     "output_type": "stream",
     "text": [
      "C:\\Users\\DataLogics\\AppData\\Local\\Temp\\ipykernel_19444\\914447175.py:1: LangChainDeprecationWarning: The method `Chain.__call__` was deprecated in langchain 0.1.0 and will be removed in 1.0. Use :meth:`~invoke` instead.\n",
      "  ai_message = qa_chain({\"query\" : query})\n"
     ]
    }
   ],
   "execution_count": 17
  },
  {
   "metadata": {
    "ExecuteTime": {
     "end_time": "2024-12-16T02:25:44.568165Z",
     "start_time": "2024-12-16T02:25:44.560296Z"
    }
   },
   "cell_type": "code",
   "source": "ai_message",
   "id": "1a70200b7b136b54",
   "outputs": [
    {
     "data": {
      "text/plain": [
       "{'query': '연봉 3000만원인 직장인의 소득세는 얼마인가요?',\n",
       " 'result': '연봉 3000만원인 직장인의 소득세는 과세표준 1400만원 초과 5000만원 이하 구간에 해당하므로, 84만원 + (1400만원을 초과하는 금액의 15퍼센트)로 계산됩니다. 따라서, 소득세는 약 384만원입니다.'}"
      ]
     },
     "execution_count": 18,
     "metadata": {},
     "output_type": "execute_result"
    }
   ],
   "execution_count": 18
  },
  {
   "metadata": {
    "ExecuteTime": {
     "end_time": "2024-12-16T02:25:44.598623Z",
     "start_time": "2024-12-16T02:25:44.596054Z"
    }
   },
   "cell_type": "code",
   "source": "",
   "id": "f4bcdcb83694e58",
   "outputs": [],
   "execution_count": null
  },
  {
   "metadata": {
    "ExecuteTime": {
     "end_time": "2024-12-16T02:25:50.314466Z",
     "start_time": "2024-12-16T02:25:50.311825Z"
    }
   },
   "cell_type": "code",
   "source": "",
   "id": "fe63a40466c8a26",
   "outputs": [],
   "execution_count": null
  }
 ],
 "metadata": {
  "kernelspec": {
   "name": "python3",
   "language": "python",
   "display_name": "Python 3 (ipykernel)"
  }
 },
 "nbformat": 4,
 "nbformat_minor": 9
}
