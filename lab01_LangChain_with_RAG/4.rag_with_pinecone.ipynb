{
 "cells": [
  {
   "metadata": {},
   "cell_type": "markdown",
   "source": [
    "### 코드 전체 흐름\n",
    "1. 문서의 내용을 읽는다\n",
    "2. 문서를 쪼갠다.\n",
    "- 토큰수 초과로 답변을 생성하지 못할 수 있고\n",
    "- 문서가 길면(Input이 길면) 답변 생성이 오래걸림\n",
    "3. 임베딩 -> 벡터 DB에 저장\n",
    "4. 질문이 있을 때, 벡터 DB에 유사도 검색\n",
    "5. 유사도 검색으로 가져온 문서를 LLM에 질문과 같이 전달"
   ],
   "id": "ab06a1a28e8b35bb"
  },
  {
   "metadata": {
    "ExecuteTime": {
     "end_time": "2024-12-13T06:40:46.849038Z",
     "start_time": "2024-12-13T06:40:37.128123Z"
    }
   },
   "cell_type": "code",
   "source": [
    "%pip install --upgrade --quiet  docx2txt langchain-community\n",
    "%pip install -qU langchain-text-splitters\n",
    "%pip install -U langchain langchainhub --quiet"
   ],
   "id": "1f88a7165936b7aa",
   "outputs": [
    {
     "name": "stdout",
     "output_type": "stream",
     "text": [
      "Note: you may need to restart the kernel to use updated packages.\n",
      "Note: you may need to restart the kernel to use updated packages.\n",
      "Note: you may need to restart the kernel to use updated packages.\n"
     ]
    }
   ],
   "execution_count": 1
  },
  {
   "metadata": {
    "ExecuteTime": {
     "end_time": "2024-12-13T06:40:58.214037Z",
     "start_time": "2024-12-13T06:40:48.851944Z"
    }
   },
   "cell_type": "code",
   "source": [
    "from langchain_community.document_loaders import Docx2txtLoader\n",
    "from langchain_text_splitters import RecursiveCharacterTextSplitter\n",
    "\n",
    "text_splitter = RecursiveCharacterTextSplitter(\n",
    "    chunk_size=1500,    # 문서를 쪼갤 때 하나의 chunk 가 가지는 토큰 수\n",
    "    chunk_overlap=200,  # 텍스트를 분할할 때, 각 chunk(조각) 사이에 중복되는 부분의 토큰 수\n",
    ")\n",
    "\n",
    "loader = Docx2txtLoader('tax.docx')\n",
    "document = loader.load()                                           #단순히 문서를 읽을 때\n",
    "document_list = loader.load_and_split(text_splitter=text_splitter) # 문서를 쪼갤 때"
   ],
   "id": "6a9dc38d8254582a",
   "outputs": [],
   "execution_count": 2
  },
  {
   "metadata": {
    "ExecuteTime": {
     "end_time": "2024-12-13T06:40:59.457818Z",
     "start_time": "2024-12-13T06:40:59.453503Z"
    }
   },
   "cell_type": "code",
   "source": [
    "print('쪼개기 전 문서 : ',len(document))\n",
    "print('쪼갠 문서 : ',len(document_list))"
   ],
   "id": "163a4e59bb688d44",
   "outputs": [
    {
     "name": "stdout",
     "output_type": "stream",
     "text": [
      "쪼개기 전 문서 :  1\n",
      "쪼갠 문서 :  220\n"
     ]
    }
   ],
   "execution_count": 3
  },
  {
   "metadata": {
    "ExecuteTime": {
     "end_time": "2024-12-13T06:41:02.451398Z",
     "start_time": "2024-12-13T06:41:00.690737Z"
    }
   },
   "cell_type": "code",
   "source": [
    "from dotenv import load_dotenv                # OpenAI API Key 사용을 위해 환경변수 등록\n",
    "from langchain_openai import OpenAIEmbeddings # OpenAI 의 Embedding을 사용\n",
    "\n",
    "load_dotenv() # 환경변수 불러오기\n",
    "\n",
    "embeddings = OpenAIEmbeddings(model='text-embedding-3-large') # 기본모델은 002인 예전모델이다. 신규 모델을 사용하기 위해 추가"
   ],
   "id": "8d2dc97ec1f7894a",
   "outputs": [],
   "execution_count": 4
  },
  {
   "metadata": {
    "ExecuteTime": {
     "end_time": "2024-12-13T06:41:07.045295Z",
     "start_time": "2024-12-13T06:41:03.304874Z"
    }
   },
   "cell_type": "code",
   "source": "%pip install -qU langchain-pinecone pinecone-notebooks",
   "id": "20bafb22f83a008a",
   "outputs": [
    {
     "name": "stdout",
     "output_type": "stream",
     "text": [
      "Note: you may need to restart the kernel to use updated packages.\n"
     ]
    }
   ],
   "execution_count": 5
  },
  {
   "metadata": {
    "ExecuteTime": {
     "end_time": "2024-12-13T06:42:13.757166Z",
     "start_time": "2024-12-13T06:42:11.786912Z"
    }
   },
   "cell_type": "code",
   "source": "%pip uninstall -y pinecone-notebooks",
   "id": "285af0507134ea6f",
   "outputs": [
    {
     "name": "stdout",
     "output_type": "stream",
     "text": [
      "Found existing installation: pinecone-notebooks 0.1.1\n",
      "Uninstalling pinecone-notebooks-0.1.1:\n",
      "  Successfully uninstalled pinecone-notebooks-0.1.1\n",
      "Note: you may need to restart the kernel to use updated packages.\n"
     ]
    }
   ],
   "execution_count": 9
  },
  {
   "metadata": {
    "ExecuteTime": {
     "end_time": "2024-12-13T06:44:18.822739Z",
     "start_time": "2024-12-13T06:44:02.662160Z"
    }
   },
   "cell_type": "code",
   "source": [
    "import os\n",
    "\n",
    "from pinecone import Pinecone\n",
    "from langchain_pinecone import PineconeVectorStore\n",
    "\n",
    "index_name = 'tax-index'\n",
    "pinecone_api_key = os.environ.get('PINECONE_API_KEY')\n",
    "\n",
    "pc = Pinecone(api_key=pinecone_api_key)\n",
    "database = PineconeVectorStore.from_documents(document_list, embeddings, index_name=index_name)"
   ],
   "id": "6edb27b339a4c596",
   "outputs": [],
   "execution_count": 11
  },
  {
   "metadata": {
    "ExecuteTime": {
     "end_time": "2024-12-13T06:46:47.082943Z",
     "start_time": "2024-12-13T06:46:44.942033Z"
    }
   },
   "cell_type": "code",
   "source": [
    "query = '연봉 3000만원인 직장인의 소득세는 얼마인가요?'\n",
    "retrieved_docs = database.similarity_search(query, 1); # similarity_search() 함수는 유사도 검색을 위한 함수이다."
   ],
   "id": "eac222de56590863",
   "outputs": [],
   "execution_count": 12
  },
  {
   "metadata": {
    "ExecuteTime": {
     "end_time": "2024-12-13T06:46:48.802497Z",
     "start_time": "2024-12-13T06:46:48.795809Z"
    }
   },
   "cell_type": "code",
   "source": "retrieved_docs",
   "id": "88df3640c9e8ae5a",
   "outputs": [
    {
     "data": {
      "text/plain": [
       "[Document(id='bd05bdfb-e1da-4430-ab56-5a1256cfb2e7', metadata={'source': 'tax.docx'}, page_content='나. 그 밖의 배당소득에 대해서는 100분의 14\\n\\n3. 원천징수대상 사업소득에 대해서는 100분의 3. 다만, 외국인 직업운동가가 한국표준산업분류에 따른 스포츠 클럽 운영업 중 프로스포츠구단과의 계약(계약기간이 3년 이하인 경우로 한정한다)에 따라 용역을 제공하고 받는 소득에 대해서는 100분의 20으로 한다.\\n\\n4. 근로소득에 대해서는 기본세율. 다만, 일용근로자의 근로소득에 대해서는 100분의 6으로 한다.\\n\\n5. 공적연금소득에 대해서는 기본세율\\n\\n5의2.제20조의3제1항제2호나목 및 다목에 따른 연금계좌 납입액이나 운용실적에 따라 증가된 금액을 연금수령한 연금소득에 대해서는 다음 각 목의 구분에 따른 세율. 이 경우 각 목의 요건을 동시에 충족하는 때에는 낮은 세율을 적용한다.\\n\\n가. 연금소득자의 나이에 따른 다음의 세율\\n\\n\\n\\n나. 삭제<2014. 12. 23.>\\n\\n다. 사망할 때까지 연금수령하는 대통령령으로 정하는 종신계약에 따라 받는 연금소득에 대해서는 100분의 4\\n\\n5의3. 제20조의3제1항제2호가목에 따라 퇴직소득을 연금수령하는 연금소득에 대해서는 다음 각 목의 구분에 따른 세율. 이 경우 연금 실제 수령연차 및 연금외수령 원천징수세율의 구체적인 내용은 대통령령으로 정한다.\\n\\n가. 연금 실제 수령연차가 10년 이하인 경우: 연금외수령 원천징수세율의 100분의 70\\n\\n나. 연금 실제 수령연차가 10년을 초과하는 경우: 연금외수령 원천징수세율의 100분의 60\\n\\n6. 기타소득에 대해서는 다음에 규정하는 세율. 다만, 제8호를 적용받는 경우는 제외한다.\\n\\n가. 제14조제3항제8호라목 및 마목에 해당하는 소득금액이 3억원을 초과하는 경우 그 초과하는 분에 대해서는 100분의 30\\n\\n나. 제21조제1항제18호 및 제21호에 따른 기타소득에 대해서는 100분의 15\\n\\n다. 삭제<2014. 12. 23.>\\n\\n라. 그 밖의 기타소득에 대해서는 100분의 20\\n\\n7. 퇴직소득에 대해서는 기본세율\\n\\n8. 대통령령으로 정하는 봉사료에 대해서는 100분의 5\\n\\n9. 대통령령으로 정하는 금융투자소득에 대해서는 100분의 20\\n\\n② 제1항에도 불구하고 다음 각 호의 이자소득 및 배당소득에 대해서는 다음 각 호에서 정하는 세율을 원천징수세율로 한다.<개정 2013. 1. 1., 2017. 12. 19., 2018. 12. 31., 2022. 12. 31.>\\n\\n1. 「민사집행법」 제113조 및 같은 법 제142조에 따라 법원에 납부한 보증금 및 경락대금에서 발생하는 이자소득에 대해서는 100분의 14\\n\\n2. 대통령령으로 정하는 실지명의가 확인되지 아니하는 소득에 대해서는 100분의 45. 다만, 「금융실명거래 및 비밀보장에 관한 법률」 제5조가 적용되는 경우에는 같은 조에서 정한 세율로 한다.')]"
      ]
     },
     "execution_count": 13,
     "metadata": {},
     "output_type": "execute_result"
    }
   ],
   "execution_count": 13
  },
  {
   "metadata": {
    "ExecuteTime": {
     "end_time": "2024-12-13T06:46:50.874197Z",
     "start_time": "2024-12-13T06:46:49.979879Z"
    }
   },
   "cell_type": "code",
   "source": [
    "from langchain_openai import ChatOpenAI\n",
    "\n",
    "llm = ChatOpenAI(model='gpt-4o')"
   ],
   "id": "8087ad2c7b0f574c",
   "outputs": [],
   "execution_count": 14
  },
  {
   "metadata": {
    "ExecuteTime": {
     "end_time": "2024-12-13T06:46:52.103731Z",
     "start_time": "2024-12-13T06:46:52.099516Z"
    }
   },
   "cell_type": "code",
   "source": [
    "# 기존에는 질문만 날렸지만 이제는 질문+문서 를 질의한다. 즉, 프롬프트 작성\n",
    "prompt = f\"\"\"[Identity]\n",
    "- 당신은 현존하는 세계 최고의 한국 소득세 전문가 입니다\n",
    "- [Context]를 참고해서 사용자의 질문에 답변해주세요\n",
    "\n",
    "[Context]\n",
    "{retrieved_docs}\n",
    "\n",
    "Question: {query}\n",
    "\"\"\"\n"
   ],
   "id": "4bc00ad4e4bb58fc",
   "outputs": [],
   "execution_count": 15
  },
  {
   "metadata": {
    "ExecuteTime": {
     "end_time": "2024-12-13T06:46:57.797036Z",
     "start_time": "2024-12-13T06:46:53.584530Z"
    }
   },
   "cell_type": "code",
   "source": "ai_message = llm.invoke(prompt)",
   "id": "292fc825079b3caf",
   "outputs": [],
   "execution_count": 16
  },
  {
   "metadata": {
    "ExecuteTime": {
     "end_time": "2024-12-13T06:47:00.445960Z",
     "start_time": "2024-12-13T06:47:00.438429Z"
    }
   },
   "cell_type": "code",
   "source": "ai_message.content",
   "id": "196264fe62063c73",
   "outputs": [
    {
     "data": {
      "text/plain": [
       "'연봉 3000만원인 직장인의 소득세를 계산하기 위해서는 한국의 소득세 기본세율을 참고해야 합니다. 한국의 소득세는 누진세율 구조를 가지고 있으며, 소득 구간에 따라 다른 세율이 적용됩니다. 2023년 기준으로 한국의 소득세 기본세율은 다음과 같습니다:\\n\\n- 1,200만원 이하: 6%\\n- 1,200만원 초과 ~ 4,600만원 이하: 15%\\n- 4,600만원 초과 ~ 8,800만원 이하: 24%\\n- 8,800만원 초과 ~ 1억5천만원 이하: 35%\\n- 1억5천만원 초과 ~ 3억원 이하: 38%\\n- 3억원 초과 ~ 5억원 이하: 40%\\n- 5억원 초과: 42%\\n\\n연봉 3000만원의 경우, 1,200만원까지는 6%의 세율이 적용되고, 나머지 1,800만원에 대해서는 15%의 세율이 적용됩니다.\\n\\n계산:\\n1. 1,200만원 × 6% = 72만원\\n2. (3,000만원 - 1,200만원) × 15% = 1,800만원 × 15% = 270만원\\n\\n따라서, 총 소득세는 72만원 + 270만원 = 342만원입니다.\\n\\n이 계산은 기본적인 소득세만을 고려한 것이며, 실제로는 각종 공제 및 세액공제를 적용하여 최종적으로 납부해야 할 세금이 달라질 수 있습니다. 공제를 적용받을 수 있는 항목에 따라 실질적인 납부 세액은 더 낮아질 수 있습니다.'"
      ]
     },
     "execution_count": 17,
     "metadata": {},
     "output_type": "execute_result"
    }
   ],
   "execution_count": 17
  },
  {
   "metadata": {
    "ExecuteTime": {
     "end_time": "2024-12-13T06:47:02.643900Z",
     "start_time": "2024-12-13T06:47:02.161440Z"
    }
   },
   "cell_type": "code",
   "source": [
    "from langchain import hub\n",
    "\n",
    "prompt = hub.pull(\"rlm/rag-prompt\")"
   ],
   "id": "de6e9b7de5d80b00",
   "outputs": [
    {
     "name": "stderr",
     "output_type": "stream",
     "text": [
      "C:\\Users\\DataLogics\\miniconda3\\envs\\llm_lab\\Lib\\site-packages\\langsmith\\client.py:241: LangSmithMissingAPIKeyWarning: API key must be provided when using hosted LangSmith API\n",
      "  warnings.warn(\n"
     ]
    }
   ],
   "execution_count": 18
  },
  {
   "metadata": {
    "ExecuteTime": {
     "end_time": "2024-12-13T06:47:03.648025Z",
     "start_time": "2024-12-13T06:47:03.642336Z"
    }
   },
   "cell_type": "code",
   "source": "prompt",
   "id": "74eb38bab06165aa",
   "outputs": [
    {
     "data": {
      "text/plain": [
       "ChatPromptTemplate(input_variables=['context', 'question'], input_types={}, partial_variables={}, metadata={'lc_hub_owner': 'rlm', 'lc_hub_repo': 'rag-prompt', 'lc_hub_commit_hash': '50442af133e61576e74536c6556cefe1fac147cad032f4377b60c436e6cdcb6e'}, messages=[HumanMessagePromptTemplate(prompt=PromptTemplate(input_variables=['context', 'question'], input_types={}, partial_variables={}, template=\"You are an assistant for question-answering tasks. Use the following pieces of retrieved context to answer the question. If you don't know the answer, just say that you don't know. Use three sentences maximum and keep the answer concise.\\nQuestion: {question} \\nContext: {context} \\nAnswer:\"), additional_kwargs={})])"
      ]
     },
     "execution_count": 19,
     "metadata": {},
     "output_type": "execute_result"
    }
   ],
   "execution_count": 19
  },
  {
   "metadata": {
    "ExecuteTime": {
     "end_time": "2024-12-13T06:47:05.676224Z",
     "start_time": "2024-12-13T06:47:05.456400Z"
    }
   },
   "cell_type": "code",
   "source": [
    "# QA Chain 만들기\n",
    "from langchain.chains import RetrievalQA\n",
    "\n",
    "qa_chain = RetrievalQA.from_chain_type(\n",
    "    llm,\n",
    "    retriever=database.as_retriever(),\n",
    "    chain_type_kwargs={\"prompt\":prompt}\n",
    ")"
   ],
   "id": "eb8e2b3b73e77d8f",
   "outputs": [],
   "execution_count": 20
  },
  {
   "metadata": {
    "ExecuteTime": {
     "end_time": "2024-12-13T06:47:08.975211Z",
     "start_time": "2024-12-13T06:47:06.699845Z"
    }
   },
   "cell_type": "code",
   "source": "ai_message = qa_chain({\"query\" : query})",
   "id": "cc2a6d8c75fa004f",
   "outputs": [
    {
     "name": "stderr",
     "output_type": "stream",
     "text": [
      "C:\\Users\\DataLogics\\AppData\\Local\\Temp\\ipykernel_49136\\914447175.py:1: LangChainDeprecationWarning: The method `Chain.__call__` was deprecated in langchain 0.1.0 and will be removed in 1.0. Use :meth:`~invoke` instead.\n",
      "  ai_message = qa_chain({\"query\" : query})\n"
     ]
    }
   ],
   "execution_count": 21
  },
  {
   "metadata": {
    "ExecuteTime": {
     "end_time": "2024-12-13T06:47:10.838513Z",
     "start_time": "2024-12-13T06:47:10.833408Z"
    }
   },
   "cell_type": "code",
   "source": "ai_message",
   "id": "1a70200b7b136b54",
   "outputs": [
    {
     "data": {
      "text/plain": [
       "{'query': '연봉 3000만원인 직장인의 소득세는 얼마인가요?',\n",
       " 'result': '연봉 3000만원인 직장인의 소득세는 기본세율에 따라 계산됩니다. 총급여액이 3300만원 이하인 경우, 소득세액에서 74만원을 공제받을 수 있습니다. 정확한 소득세율과 공제 금액은 개인의 상황에 따라 달라질 수 있습니다.'}"
      ]
     },
     "execution_count": 22,
     "metadata": {},
     "output_type": "execute_result"
    }
   ],
   "execution_count": 22
  },
  {
   "metadata": {},
   "cell_type": "code",
   "source": "",
   "id": "f4bcdcb83694e58",
   "outputs": [],
   "execution_count": null
  },
  {
   "metadata": {
    "ExecuteTime": {
     "end_time": "2024-12-13T07:06:29.611056Z",
     "start_time": "2024-12-13T07:06:26.626017Z"
    }
   },
   "cell_type": "code",
   "source": "%conda list pydantic",
   "id": "9633f0657c8e83eb",
   "outputs": [
    {
     "name": "stdout",
     "output_type": "stream",
     "text": [
      "# packages in environment at C:\\Users\\DataLogics\\miniconda3\\envs\\llm_lab:\n",
      "#\n",
      "# Name                    Version                   Build  Channel\n",
      "pydantic                  2.10.3                   pypi_0    pypi\n",
      "pydantic-core             2.27.1                   pypi_0    pypi\n",
      "pydantic-settings         2.6.1                    pypi_0    pypi\n",
      "\n",
      "Note: you may need to restart the kernel to use updated packages.\n"
     ]
    }
   ],
   "execution_count": 23
  },
  {
   "metadata": {
    "ExecuteTime": {
     "end_time": "2024-12-13T07:06:45.276507Z",
     "start_time": "2024-12-13T07:06:42.436244Z"
    }
   },
   "cell_type": "code",
   "source": "%conda list langchain",
   "id": "15b12153a4b950c1",
   "outputs": [
    {
     "name": "stdout",
     "output_type": "stream",
     "text": [
      "# packages in environment at C:\\Users\\DataLogics\\miniconda3\\envs\\llm_lab:\n",
      "#\n",
      "# Name                    Version                   Build  Channel\n",
      "langchain                 0.3.11                   pypi_0    pypi\n",
      "langchain-chroma          0.1.4                    pypi_0    pypi\n",
      "langchain-community       0.3.11                   pypi_0    pypi\n",
      "langchain-core            0.3.24                   pypi_0    pypi\n",
      "langchain-openai          0.2.12                   pypi_0    pypi\n",
      "langchain-pinecone        0.2.0                    pypi_0    pypi\n",
      "langchain-text-splitters  0.3.2                    pypi_0    pypi\n",
      "langchain-upstage         0.4.0                    pypi_0    pypi\n",
      "langchainhub              0.1.21                   pypi_0    pypi\n",
      "\n",
      "Note: you may need to restart the kernel to use updated packages.\n"
     ]
    }
   ],
   "execution_count": 24
  },
  {
   "metadata": {},
   "cell_type": "code",
   "outputs": [],
   "execution_count": null,
   "source": "",
   "id": "fe63a40466c8a26"
  }
 ],
 "metadata": {
  "kernelspec": {
   "name": "python3",
   "language": "python",
   "display_name": "Python 3 (ipykernel)"
  }
 },
 "nbformat": 4,
 "nbformat_minor": 9
}
