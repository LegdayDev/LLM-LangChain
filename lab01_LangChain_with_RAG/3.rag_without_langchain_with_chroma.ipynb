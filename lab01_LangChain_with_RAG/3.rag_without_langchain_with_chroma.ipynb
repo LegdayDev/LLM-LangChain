{
 "cells": [
  {
   "metadata": {},
   "cell_type": "markdown",
   "source": [
    "### 코드 전체 흐름\n",
    "1. 문서의 내용을 읽는다\n",
    "2. 문서를 쪼갠다.\n",
    "- 토큰수 초과로 답변을 생성하지 못할 수 있고\n",
    "- 문서가 길면(Input이 길면) 답변 생성이 오래걸림\n",
    "3. 임베딩 -> 벡터 DB에 저장\n",
    "4. 질문이 있을 때, 벡터 DB에 유사도 검색\n",
    "5. 유사도 검색으로 가져온 문서를 LLM에 질문과 같이 전달"
   ],
   "id": "4c0c7846d8a36280"
  },
  {
   "metadata": {},
   "cell_type": "markdown",
   "source": [
    "### 1. 문서의 내용을 읽는다\n",
    "- `LangChain` 을 쓸 때는 `Document Loader`를 사용했었다.\n",
    "- `LangChain` 없이 문서의 내용을 읽을려면 `Python Docx` 를 사용한다."
   ],
   "id": "50a038136bb075e9"
  },
  {
   "metadata": {
    "collapsed": true
   },
   "cell_type": "code",
   "source": "%pip install python-docx",
   "id": "initial_id",
   "outputs": [],
   "execution_count": null
  },
  {
   "metadata": {},
   "cell_type": "code",
   "source": [
    "from docx import Document\n",
    "\n",
    "document = Document('./tax.docx');\n",
    "print(f'document == {document}')\n",
    "full_text = ''\n",
    "\n",
    "for index, paragraph in enumerate(document.paragraphs):\n",
    "    print(f'paragraph == {paragraph.text}')\n",
    "    full_text += f'{paragraph.text}\\n'"
   ],
   "id": "96edb6d996b75df4",
   "outputs": [],
   "execution_count": null
  },
  {
   "metadata": {},
   "cell_type": "code",
   "source": "full_text",
   "id": "f618d1ae6d9370b0",
   "outputs": [],
   "execution_count": null
  },
  {
   "metadata": {},
   "cell_type": "markdown",
   "source": [
    "## 2. 문서를 쪼갠다.\n",
    "- `LangChain` 을 쓸 때는 ``Text Spliter`` 를 사용했었다.\n",
    "- `LangChain` 없이 문서의 내용을 읽을려면 OpenAI 에서 제공하는 `tiktoken` 을 사용한다."
   ],
   "id": "7b96773508004637"
  },
  {
   "metadata": {},
   "cell_type": "code",
   "source": "%pip install tiktoken",
   "id": "d555f20e8df58b80",
   "outputs": [],
   "execution_count": null
  },
  {
   "metadata": {},
   "cell_type": "code",
   "source": [
    "import tiktoken\n",
    "\n",
    "def split_text(input_text, chunk_size):\n",
    "    encoder = tiktoken.encoding_for_model(\"gpt-4o\")\n",
    "    total_encoding = encoder.encode(input_text) # 인코딩 : 텍스트 -> 숫자 리스트\n",
    "    total_token_count = len(total_encoding)\n",
    "    text_list = []\n",
    "\n",
    "    for i in range(0, total_token_count, chunk_size):\n",
    "        chunk = total_encoding[i: i+chunk_size]\n",
    "        decoded = encoder.decode(chunk)   # 디코딩 : 숫자 리스트 -> 텍스트\n",
    "        text_list.append(decoded)\n",
    "\n",
    "    return text_list\n",
    "\n"
   ],
   "id": "24450cbf5e542542",
   "outputs": [],
   "execution_count": null
  },
  {
   "metadata": {},
   "cell_type": "code",
   "source": "chunk_list = split_text(full_text, 1500)",
   "id": "9dac853d0feac554",
   "outputs": [],
   "execution_count": null
  },
  {
   "metadata": {},
   "cell_type": "code",
   "source": "chunk_list",
   "id": "6e546f9a66142c58",
   "outputs": [],
   "execution_count": null
  },
  {
   "metadata": {},
   "cell_type": "markdown",
   "source": [
    "## 3. 문서 임베딩\n",
    "- `Chroma` 에서 제공하는 임베딩 기술을 사용한다.\n",
    "- 기존에는 `langchain_chroma` 의 `Chroma` 를 사용했지만 이제는 그냥 `Chroma` 를 사용한다."
   ],
   "id": "b7db04a6577dd5e1"
  },
  {
   "metadata": {},
   "cell_type": "code",
   "source": "%pip install chromadb",
   "id": "71394ebc7de103be",
   "outputs": [],
   "execution_count": null
  },
  {
   "metadata": {},
   "cell_type": "code",
   "source": [
    "import chromadb\n",
    "\n",
    "chroma_client = chromadb.Client()"
   ],
   "id": "b2eff69e3a52d748",
   "outputs": [],
   "execution_count": null
  },
  {
   "metadata": {},
   "cell_type": "code",
   "source": [
    "collection_name = 'tax_collection'\n",
    "tax_collection = chroma_client.create_collection(collection_name)"
   ],
   "id": "aec8a8f1b4e5b2d6",
   "outputs": [],
   "execution_count": null
  },
  {
   "metadata": {},
   "cell_type": "code",
   "source": [
    "import os\n",
    "from dotenv import load_dotenv\n",
    "from chromadb.utils.embedding_functions import OpenAIEmbeddingFunction\n",
    "\n",
    "load_dotenv()\n",
    "openai_api_key = os.getenv('OPENAI_API_KEY')\n",
    "openai_embedding = OpenAIEmbeddingFunction(api_key = openai_api_key,model_name='text-embedding-3-large')"
   ],
   "id": "c5471bade8b761cc",
   "outputs": [],
   "execution_count": null
  },
  {
   "metadata": {},
   "cell_type": "code",
   "source": "tax_collection = chroma_client.get_or_create_collection(collection_name, embedding_function=openai_embedding)",
   "id": "bbbc026ab4a188d1",
   "outputs": [],
   "execution_count": null
  },
  {
   "metadata": {},
   "cell_type": "code",
   "source": [
    "id_list = []\n",
    "for index in range(len(chunk_list)):\n",
    "    id_list.append(f'{index}')"
   ],
   "id": "73f649ba643bb26c",
   "outputs": [],
   "execution_count": null
  },
  {
   "metadata": {},
   "cell_type": "code",
   "source": "tax_collection.add(documents=chunk_list, ids=id_list)",
   "id": "74bdc6c0808a2b25",
   "outputs": [],
   "execution_count": null
  },
  {
   "metadata": {},
   "cell_type": "markdown",
   "source": "## 4. 유사도 검색",
   "id": "e63d77084131e90"
  },
  {
   "metadata": {},
   "cell_type": "code",
   "source": [
    "query = '연봉 5천만원인 직장인의 소득세는 얼마인가요?'\n",
    "retrieved_doc = tax_collection.query(query_texts=query, n_results=3)"
   ],
   "id": "278b3115747cd23f",
   "outputs": [],
   "execution_count": null
  },
  {
   "metadata": {},
   "cell_type": "code",
   "source": "retrieved_doc['documents'][0]",
   "id": "7bedb389ea4b82b0",
   "outputs": [],
   "execution_count": null
  },
  {
   "metadata": {},
   "cell_type": "markdown",
   "source": "",
   "id": "31249e750117ceef"
  },
  {
   "metadata": {},
   "cell_type": "markdown",
   "source": [
    "## 5. LLM 질의\n",
    "- OpenAI 패키지가 필요함"
   ],
   "id": "e5232a210511a2a8"
  },
  {
   "metadata": {},
   "cell_type": "code",
   "source": "%pip install openai",
   "id": "6886c0d4d0a092c7",
   "outputs": [],
   "execution_count": null
  },
  {
   "metadata": {},
   "cell_type": "code",
   "source": [
    "from openai import OpenAI\n",
    "\n",
    "client = OpenAI()\n",
    "\n",
    "response = client.chat.completions.create(\n",
    "    model=\"gpt-4o\",\n",
    "    messages=[\n",
    "        {\"role\": \"system\", \"content\": f\"당신은 한국의 소득세 전문가 입니다. 아래 내용을 참고해서 사용자의 질문에 답변해주세요 {retrieved_doc['documents'][0]}\"},\n",
    "        {\"role\": \"user\", \"content\": query},\n",
    "    ]\n",
    ")"
   ],
   "id": "f559b5969f2770bd",
   "outputs": [],
   "execution_count": null
  },
  {
   "metadata": {},
   "cell_type": "code",
   "source": "response.choices[0].message.content",
   "id": "60786aed7107a9e8",
   "outputs": [],
   "execution_count": null
  },
  {
   "metadata": {},
   "cell_type": "code",
   "source": "",
   "id": "ffb4581bf09a0672",
   "outputs": [],
   "execution_count": null
  }
 ],
 "metadata": {
  "kernelspec": {
   "display_name": "Python 3",
   "language": "python",
   "name": "python3"
  },
  "language_info": {
   "codemirror_mode": {
    "name": "ipython",
    "version": 2
   },
   "file_extension": ".py",
   "mimetype": "text/x-python",
   "name": "python",
   "nbconvert_exporter": "python",
   "pygments_lexer": "ipython2",
   "version": "2.7.6"
  }
 },
 "nbformat": 4,
 "nbformat_minor": 5
}
