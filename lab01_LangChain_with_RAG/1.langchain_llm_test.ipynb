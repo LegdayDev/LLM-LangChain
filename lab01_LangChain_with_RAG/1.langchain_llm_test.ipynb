{
 "cells": [
  {
   "metadata": {},
   "cell_type": "markdown",
   "source": "## 1. 패키지 설치",
   "id": "ef66979f03dcffe8"
  },
  {
   "cell_type": "code",
   "id": "initial_id",
   "metadata": {
    "collapsed": true
   },
   "source": "%pip install langchain-openai python-dotenv",
   "outputs": [],
   "execution_count": null
  },
  {
   "metadata": {},
   "cell_type": "markdown",
   "source": [
    "## 2. 환경변수 불러오기\n",
    "- `.env` 파일에 `OPENAI_API_KEY` 등록"
   ],
   "id": "421db26a1b96baf3"
  },
  {
   "metadata": {},
   "cell_type": "code",
   "source": [
    "from dotenv import load_dotenv\n",
    "\n",
    "load_dotenv()"
   ],
   "id": "1e68e661f6d4d348",
   "outputs": [],
   "execution_count": null
  },
  {
   "metadata": {},
   "cell_type": "markdown",
   "source": [
    "## 3. LLM 답변 생성\n",
    "- OpenAI 대시보드에서 발급받은 API Key를 `OPENAI_API_KEY`라고 저장하면 별도의 설정 없이 `ChatOpenAI`를 사용할 수 있음."
   ],
   "id": "57f6283809347248"
  },
  {
   "metadata": {},
   "cell_type": "code",
   "source": [
    "from langchain_openai import ChatOpenAI # langchain 불러오기\n",
    "\n",
    "llm = ChatOpenAI()"
   ],
   "id": "81b5601b8ed8e15d",
   "outputs": [],
   "execution_count": null
  },
  {
   "metadata": {},
   "cell_type": "code",
   "source": [
    "# invoke() 로 가져오는 답변에는 답변 내용 외에도 여러 내용이 들어있다.\n",
    "ai_message = llm.invoke(\"인프런에 어떤 강의가 있나요?\")"
   ],
   "id": "a6c4c50024edd44a",
   "outputs": [],
   "execution_count": null
  },
  {
   "metadata": {},
   "cell_type": "code",
   "source": [
    "# 답변내용만 추출할려면 content 파라미터를 이용한다.\n",
    "ai_message.content\n",
    "\n",
    "# 이렇게 설정을 간단히하고 실행하는 이유는 환경설정 파일(.env)에서 key 값을 OPEN_API_KEY 로 지정했기 때문이다."
   ],
   "id": "d3d0325f0edbff35",
   "outputs": [],
   "execution_count": null
  },
  {
   "metadata": {},
   "cell_type": "code",
   "source": "",
   "id": "abd00579edf7dbf5",
   "outputs": [],
   "execution_count": null
  }
 ],
 "metadata": {
  "kernelspec": {
   "display_name": "Python 3",
   "language": "python",
   "name": "python3"
  },
  "language_info": {
   "codemirror_mode": {
    "name": "ipython",
    "version": 2
   },
   "file_extension": ".py",
   "mimetype": "text/x-python",
   "name": "python",
   "nbconvert_exporter": "python",
   "pygments_lexer": "ipython2",
   "version": "2.7.6"
  }
 },
 "nbformat": 4,
 "nbformat_minor": 5
}
