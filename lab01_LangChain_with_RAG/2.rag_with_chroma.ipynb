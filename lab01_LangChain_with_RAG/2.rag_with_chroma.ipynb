{
 "cells": [
  {
   "metadata": {},
   "cell_type": "markdown",
   "source": [
    "### 코드 전체 흐름\n",
    "1. 문서의 내용을 읽는다\n",
    "2. 문서를 쪼갠다.\n",
    "- 토큰수 초과로 답변을 생성하지 못할 수 있고\n",
    "- 문서가 길면(Input이 길면) 답변 생성이 오래걸림\n",
    "3. 임베딩 -> 벡터 DB에 저장\n",
    "4. 질문이 있을 때, 벡터 DB에 유사도 검색\n",
    "5. 유사도 검색으로 가져온 문서를 LLM에 질문과 같이 전달"
   ],
   "id": "ab06a1a28e8b35bb"
  },
  {
   "metadata": {},
   "cell_type": "code",
   "source": [
    "%pip install --upgrade --quiet  docx2txt langchain-community\n",
    "%pip install -qU langchain-text-splitters\n",
    "%pip install langchain-chroma\n",
    "%pip install -U langchain langchainhub --quiet"
   ],
   "id": "1f88a7165936b7aa",
   "outputs": [],
   "execution_count": null
  },
  {
   "metadata": {},
   "cell_type": "markdown",
   "source": "## 1. 문서의 내용을 읽는다.",
   "id": "59c49c27e645b53a"
  },
  {
   "metadata": {
    "ExecuteTime": {
     "end_time": "2024-12-17T02:14:12.640170Z",
     "start_time": "2024-12-17T02:14:08.562257Z"
    }
   },
   "cell_type": "code",
   "source": [
    "from langchain_community.document_loaders import Docx2txtLoader\n",
    "\n",
    "\n",
    "loader = Docx2txtLoader('tax.docx')\n",
    "document = loader.load()\n",
    "\n",
    "print(len(document))"
   ],
   "id": "6a9dc38d8254582a",
   "outputs": [
    {
     "name": "stdout",
     "output_type": "stream",
     "text": [
      "1\n"
     ]
    }
   ],
   "execution_count": 3
  },
  {
   "metadata": {},
   "cell_type": "markdown",
   "source": "## 2. 문서를 쪼갠다.",
   "id": "7673fdd3565c8f07"
  },
  {
   "metadata": {
    "ExecuteTime": {
     "end_time": "2024-12-17T02:14:28.755329Z",
     "start_time": "2024-12-17T02:14:24.570170Z"
    }
   },
   "cell_type": "code",
   "outputs": [
    {
     "data": {
      "text/plain": [
       "220"
      ]
     },
     "execution_count": 4,
     "metadata": {},
     "output_type": "execute_result"
    }
   ],
   "execution_count": 4,
   "source": [
    "from langchain_text_splitters import RecursiveCharacterTextSplitter\n",
    "\n",
    "text_splitter = RecursiveCharacterTextSplitter(\n",
    "    chunk_size=1500,    # 문서를 쪼갤 때 하나의 chunk 가 가지는 토큰 수\n",
    "    chunk_overlap=200,  # 텍스트를 분할할 때, 각 chunk(조각) 사이에 중복되는 부분의 토큰 수\n",
    ")\n",
    "\n",
    "document_list = loader.load_and_split(text_splitter=text_splitter) # 문서를 쪼갤 때\n",
    "len(document_list)"
   ],
   "id": "e1384cc4d0df5a7d"
  },
  {
   "metadata": {},
   "cell_type": "markdown",
   "source": "## 3.1 임베딩 모델 물러오기",
   "id": "cbf344792a295041"
  },
  {
   "metadata": {
    "ExecuteTime": {
     "end_time": "2024-12-17T02:17:08.853452Z",
     "start_time": "2024-12-17T02:17:06.796292Z"
    }
   },
   "cell_type": "code",
   "source": [
    "from dotenv import load_dotenv                # OpenAI API Key 사용을 위해 환경변수 등록\n",
    "from langchain_openai import OpenAIEmbeddings # OpenAI 의 Embedding을 사용\n",
    "\n",
    "load_dotenv() # 환경변수 불러오기\n",
    "\n",
    "embeddings = OpenAIEmbeddings(model='text-embedding-3-large') # 기본모델은 002인 예전모델이다. 신규 모델을 사용하기 위해 추가"
   ],
   "id": "8d2dc97ec1f7894a",
   "outputs": [],
   "execution_count": 5
  },
  {
   "metadata": {},
   "cell_type": "markdown",
   "source": "## 3.2 벡터 DB(Chreoma) 생성 후 저장",
   "id": "59b774be0976a997"
  },
  {
   "metadata": {
    "ExecuteTime": {
     "end_time": "2024-12-17T02:19:42.478110Z",
     "start_time": "2024-12-17T02:19:27.122153Z"
    }
   },
   "cell_type": "code",
   "source": [
    "from langchain_chroma import Chroma\n",
    "\n",
    "\"\"\"\n",
    "documents         : 쪼갠 문서\n",
    "embedding         : 임베딩 모델\n",
    "collection_name   : 테이블명\n",
    "persist_directory : DB저장 경로\n",
    "\"\"\"\n",
    "database = Chroma.from_documents(documents=document_list, embedding=embeddings, collection_name='chroma_tax',persist_directory=\"./chroma\")"
   ],
   "id": "20bafb22f83a008a",
   "outputs": [],
   "execution_count": 6
  },
  {
   "metadata": {},
   "cell_type": "markdown",
   "source": "## 4. 질문 생성 후 벡터DB에서 유사도검색하여 문서가져오기",
   "id": "e27919596d27e516"
  },
  {
   "metadata": {
    "ExecuteTime": {
     "end_time": "2024-12-17T05:13:47.043658Z",
     "start_time": "2024-12-17T05:13:47.036522Z"
    }
   },
   "cell_type": "code",
   "source": [
    "query = '연봉 1억원인 직장인의 소득세는 얼마인가요?'\n",
    "# retrieved_docs = database.similarity_search(query, k=3); # similarity_search() 함수는 유사도 검색을 위한 함수이다. k 값은 가져올 문서 갯수"
   ],
   "id": "eac222de56590863",
   "outputs": [],
   "execution_count": 18
  },
  {
   "metadata": {},
   "cell_type": "markdown",
   "source": "## 5.1 LLM 생성",
   "id": "f7bfd293b1afdc6d"
  },
  {
   "metadata": {
    "ExecuteTime": {
     "end_time": "2024-12-17T02:21:19.822579Z",
     "start_time": "2024-12-17T02:21:18.974603Z"
    }
   },
   "cell_type": "code",
   "source": [
    "from langchain_openai import ChatOpenAI\n",
    "\n",
    "llm = ChatOpenAI(model='gpt-4o')"
   ],
   "id": "8087ad2c7b0f574c",
   "outputs": [],
   "execution_count": 11
  },
  {
   "metadata": {},
   "cell_type": "markdown",
   "source": [
    "## 5.2 프롬프트(질의+문서) 작성\n",
    "- LLM이 문서를 참고하여 답변할 수 있도록 질의와 문서를 포함한 프롬프트 작성\n",
    "- 페르소나가 중요하다"
   ],
   "id": "84624bc7b68e69aa"
  },
  {
   "metadata": {
    "ExecuteTime": {
     "end_time": "2024-12-17T05:13:56.425894Z",
     "start_time": "2024-12-17T05:13:56.421809Z"
    }
   },
   "cell_type": "code",
   "source": [
    "# 기존에는 질문만 날렸지만 이제는 질문+문서 를 질의한다. 즉, 프롬프트 작성\n",
    "# prompt = f\"\"\"[Identity]\n",
    "# - 당신은 현존하는 세계 최고의 한국 소득세 전문가 입니다\n",
    "# - [Context]를 참고해서 사용자의 질문에 답변해주세요\n",
    "#\n",
    "# [Context]\n",
    "# {retrieved_docs}\n",
    "#\n",
    "# Question: {query}\n",
    "# \"\"\"\n"
   ],
   "id": "4bc00ad4e4bb58fc",
   "outputs": [],
   "execution_count": 19
  },
  {
   "metadata": {},
   "cell_type": "markdown",
   "source": "## 5.2 프롬프트를 LLM에 전달",
   "id": "d09cd1de7b951ea9"
  },
  {
   "metadata": {
    "ExecuteTime": {
     "end_time": "2024-12-17T02:22:56.628465Z",
     "start_time": "2024-12-17T02:22:49.525755Z"
    }
   },
   "cell_type": "code",
   "source": "# ai_message = llm.invoke(prompt)",
   "id": "292fc825079b3caf",
   "outputs": [],
   "execution_count": 14
  },
  {
   "metadata": {
    "ExecuteTime": {
     "end_time": "2024-12-17T02:22:57.588099Z",
     "start_time": "2024-12-17T02:22:57.579532Z"
    }
   },
   "cell_type": "code",
   "source": "# ai_message.content",
   "id": "196264fe62063c73",
   "outputs": [
    {
     "data": {
      "text/plain": [
       "'연봉 1억원인 직장인의 소득세를 계산하기 위해서는 한국의 소득세율 체계와 공제 항목들을 고려해야 합니다. 기본적으로, 소득세는 과세표준에 따라 누진세율이 적용됩니다. 2023년 기준으로 한국의 소득세율은 다음과 같습니다:\\n\\n- 과세표준 1,200만원 이하: 6%\\n- 1,200만원 초과 ~ 4,600만원 이하: 15%\\n- 4,600만원 초과 ~ 8,800만원 이하: 24%\\n- 8,800만원 초과 ~ 1억 5,000만원 이하: 35%\\n- 1억 5,000만원 초과: 38%\\n\\n연봉 1억원인 경우, 기본적인 소득세 계산은 다음과 같이 이루어집니다:\\n\\n1. 과세표준 계산: 연봉에서 인정되는 각종 공제를 차감하여 과세표준을 산출합니다. 일반적으로 건강보험료, 국민연금, 고용보험료 및 기타 공제를 고려해야 합니다. 여기서는 공제를 고려하지 않고 단순히 계산하겠습니다.\\n\\n2. 소득세 계산:\\n   - 1,200만원까지: 1,200만원 * 6% = 72만원\\n   - 1,200만원 초과 ~ 4,600만원: (4,600만원 - 1,200만원) * 15% = 510만원\\n   - 4,600만원 초과 ~ 8,800만원: (8,800만원 - 4,600만원) * 24% = 1,008만원\\n   - 8,800만원 초과 ~ 1억원: (1억원 - 8,800만원) * 35% = 420만원\\n\\n3. 총 소득세: 72만원 + 510만원 + 1,008만원 + 420만원 = 2,010만원\\n\\n이 계산은 기본적인 소득세만을 고려한 것으로, 실제 납부해야 할 세금은 공제 항목과 세액공제 등을 통해 더 낮아질 수 있습니다. 정확한 소득세를 계산하기 위해서는 개인의 구체적인 소득 및 공제 정보를 반영해야 합니다.'"
      ]
     },
     "execution_count": 15,
     "metadata": {},
     "output_type": "execute_result"
    }
   ],
   "execution_count": 15
  },
  {
   "metadata": {},
   "cell_type": "markdown",
   "source": [
    "### RetrievalQA Chain 사용\n",
    "- LangChain Hub 사용"
   ],
   "id": "825c45e7626f3857"
  },
  {
   "metadata": {
    "ExecuteTime": {
     "end_time": "2024-12-17T05:11:41.146320Z",
     "start_time": "2024-12-17T05:11:39.722754Z"
    }
   },
   "cell_type": "code",
   "source": [
    "from langchain import hub\n",
    "\n",
    "prompt = hub.pull(\"rlm/rag-prompt\")"
   ],
   "id": "de6e9b7de5d80b00",
   "outputs": [
    {
     "name": "stderr",
     "output_type": "stream",
     "text": [
      "C:\\Users\\DataLogics\\miniconda3\\envs\\llm_lab\\Lib\\site-packages\\langsmith\\client.py:241: LangSmithMissingAPIKeyWarning: API key must be provided when using hosted LangSmith API\n",
      "  warnings.warn(\n"
     ]
    }
   ],
   "execution_count": 16
  },
  {
   "metadata": {
    "ExecuteTime": {
     "end_time": "2024-12-17T05:12:05.068804Z",
     "start_time": "2024-12-17T05:12:05.059882Z"
    }
   },
   "cell_type": "code",
   "source": "prompt",
   "id": "74eb38bab06165aa",
   "outputs": [
    {
     "data": {
      "text/plain": [
       "ChatPromptTemplate(input_variables=['context', 'question'], input_types={}, partial_variables={}, metadata={'lc_hub_owner': 'rlm', 'lc_hub_repo': 'rag-prompt', 'lc_hub_commit_hash': '50442af133e61576e74536c6556cefe1fac147cad032f4377b60c436e6cdcb6e'}, messages=[HumanMessagePromptTemplate(prompt=PromptTemplate(input_variables=['context', 'question'], input_types={}, partial_variables={}, template=\"You are an assistant for question-answering tasks. Use the following pieces of retrieved context to answer the question. If you don't know the answer, just say that you don't know. Use three sentences maximum and keep the answer concise.\\nQuestion: {question} \\nContext: {context} \\nAnswer:\"), additional_kwargs={})])"
      ]
     },
     "execution_count": 17,
     "metadata": {},
     "output_type": "execute_result"
    }
   ],
   "execution_count": 17
  },
  {
   "metadata": {},
   "cell_type": "markdown",
   "source": "### QA Chain 사용",
   "id": "e441109203f77640"
  },
  {
   "metadata": {
    "ExecuteTime": {
     "end_time": "2024-12-17T05:15:04.253776Z",
     "start_time": "2024-12-17T05:15:03.815085Z"
    }
   },
   "cell_type": "code",
   "source": [
    "# QA Chain 만들기\n",
    "from langchain.chains import RetrievalQA\n",
    "\n",
    "qa_chain = RetrievalQA.from_chain_type(\n",
    "    llm,\n",
    "    retriever=database.as_retriever(), # as_retriever 는 VetcotrDB에 다 사용가능한 메서드.\n",
    "    chain_type_kwargs={\"prompt\":prompt}\n",
    ")"
   ],
   "id": "eb8e2b3b73e77d8f",
   "outputs": [],
   "execution_count": 20
  },
  {
   "metadata": {
    "ExecuteTime": {
     "end_time": "2024-12-17T05:15:18.010366Z",
     "start_time": "2024-12-17T05:15:15.236308Z"
    }
   },
   "cell_type": "code",
   "source": "ai_message = qa_chain({\"query\" : query})",
   "id": "cc2a6d8c75fa004f",
   "outputs": [
    {
     "name": "stderr",
     "output_type": "stream",
     "text": [
      "C:\\Users\\DataLogics\\AppData\\Local\\Temp\\ipykernel_31824\\914447175.py:1: LangChainDeprecationWarning: The method `Chain.__call__` was deprecated in langchain 0.1.0 and will be removed in 1.0. Use :meth:`~invoke` instead.\n",
      "  ai_message = qa_chain({\"query\" : query})\n"
     ]
    }
   ],
   "execution_count": 21
  },
  {
   "metadata": {
    "ExecuteTime": {
     "end_time": "2024-12-17T05:15:18.805673Z",
     "start_time": "2024-12-17T05:15:18.799488Z"
    }
   },
   "cell_type": "code",
   "source": "ai_message",
   "id": "1a70200b7b136b54",
   "outputs": [
    {
     "data": {
      "text/plain": [
       "{'query': '연봉 1억원인 직장인의 소득세는 얼마인가요?',\n",
       " 'result': '연봉 1억원인 직장인의 소득세는 근로소득에 대한 기본세율이 적용됩니다. 기본세율은 소득 구간에 따라 차등 적용되며, 구체적인 금액은 세율표를 통해 계산해야 합니다. 제공된 정보에서 구체적인 세율이 없으므로, 정확한 소득세를 계산하기 위해서는 추가적인 세율표가 필요합니다.'}"
      ]
     },
     "execution_count": 22,
     "metadata": {},
     "output_type": "execute_result"
    }
   ],
   "execution_count": 22
  },
  {
   "metadata": {},
   "cell_type": "code",
   "source": "",
   "id": "f4bcdcb83694e58",
   "outputs": [],
   "execution_count": null
  }
 ],
 "metadata": {
  "kernelspec": {
   "name": "python3",
   "language": "python",
   "display_name": "Python 3 (ipykernel)"
  }
 },
 "nbformat": 4,
 "nbformat_minor": 9
}
