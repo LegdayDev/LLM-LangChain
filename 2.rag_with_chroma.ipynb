{
 "cells": [
  {
   "metadata": {},
   "cell_type": "markdown",
   "source": [
    "### 코드 전체 흐름\n",
    "1. 문서의 내용을 읽는다\n",
    "2. 문서를 쪼갠다.\n",
    "- 토큰수 초과로 답변을 생성하지 못할 수 있고\n",
    "- 문서가 길면(Input이 길면) 답변 생성이 오래걸림\n",
    "3. 임베딩 -> 벡터 DB에 저장\n",
    "4. 질문이 있을 때, 벡터 DB에 유사도 검색\n",
    "5. 유사도 검색으로 가져온 문서를 LLM에 질문과 같이 전달"
   ],
   "id": "ab06a1a28e8b35bb"
  },
  {
   "metadata": {
    "ExecuteTime": {
     "end_time": "2024-12-11T10:20:57.571199Z",
     "start_time": "2024-12-11T10:20:45.085486Z"
    }
   },
   "cell_type": "code",
   "source": [
    "%pip install --upgrade --quiet  docx2txt langchain-community \n",
    "%pip install -qU langchain-text-splitters                    \n",
    "%pip install langchain-chroma                                \n",
    "%pip install -U langchain langchainhub --quiet               "
   ],
   "id": "811ab17ecc095c66",
   "outputs": [
    {
     "name": "stdout",
     "output_type": "stream",
     "text": [
      "Note: you may need to restart the kernel to use updated packages.\n",
      "Note: you may need to restart the kernel to use updated packages.\n",
      "Requirement already satisfied: langchain-chroma in c:\\users\\datalogics\\miniconda3\\envs\\llm_lab\\lib\\site-packages (0.1.4)\n",
      "Requirement already satisfied: chromadb!=0.5.4,!=0.5.5,<0.6.0,>=0.4.0 in c:\\users\\datalogics\\miniconda3\\envs\\llm_lab\\lib\\site-packages (from langchain-chroma) (0.5.23)\n",
      "Requirement already satisfied: fastapi<1,>=0.95.2 in c:\\users\\datalogics\\miniconda3\\envs\\llm_lab\\lib\\site-packages (from langchain-chroma) (0.115.6)\n",
      "Requirement already satisfied: langchain-core<0.4,>=0.1.40 in c:\\users\\datalogics\\miniconda3\\envs\\llm_lab\\lib\\site-packages (from langchain-chroma) (0.3.24)\n",
      "Requirement already satisfied: numpy<2.0.0,>=1.26.0 in c:\\users\\datalogics\\miniconda3\\envs\\llm_lab\\lib\\site-packages (from langchain-chroma) (1.26.4)\n",
      "Requirement already satisfied: build>=1.0.3 in c:\\users\\datalogics\\miniconda3\\envs\\llm_lab\\lib\\site-packages (from chromadb!=0.5.4,!=0.5.5,<0.6.0,>=0.4.0->langchain-chroma) (1.2.2.post1)\n",
      "Requirement already satisfied: pydantic>=1.9 in c:\\users\\datalogics\\miniconda3\\envs\\llm_lab\\lib\\site-packages (from chromadb!=0.5.4,!=0.5.5,<0.6.0,>=0.4.0->langchain-chroma) (2.10.3)\n",
      "Requirement already satisfied: chroma-hnswlib==0.7.6 in c:\\users\\datalogics\\miniconda3\\envs\\llm_lab\\lib\\site-packages (from chromadb!=0.5.4,!=0.5.5,<0.6.0,>=0.4.0->langchain-chroma) (0.7.6)\n",
      "Requirement already satisfied: uvicorn>=0.18.3 in c:\\users\\datalogics\\miniconda3\\envs\\llm_lab\\lib\\site-packages (from uvicorn[standard]>=0.18.3->chromadb!=0.5.4,!=0.5.5,<0.6.0,>=0.4.0->langchain-chroma) (0.32.1)\n",
      "Requirement already satisfied: posthog>=2.4.0 in c:\\users\\datalogics\\miniconda3\\envs\\llm_lab\\lib\\site-packages (from chromadb!=0.5.4,!=0.5.5,<0.6.0,>=0.4.0->langchain-chroma) (3.7.4)\n",
      "Requirement already satisfied: typing_extensions>=4.5.0 in c:\\users\\datalogics\\miniconda3\\envs\\llm_lab\\lib\\site-packages (from chromadb!=0.5.4,!=0.5.5,<0.6.0,>=0.4.0->langchain-chroma) (4.12.2)\n",
      "Requirement already satisfied: onnxruntime>=1.14.1 in c:\\users\\datalogics\\miniconda3\\envs\\llm_lab\\lib\\site-packages (from chromadb!=0.5.4,!=0.5.5,<0.6.0,>=0.4.0->langchain-chroma) (1.20.1)\n",
      "Requirement already satisfied: opentelemetry-api>=1.2.0 in c:\\users\\datalogics\\miniconda3\\envs\\llm_lab\\lib\\site-packages (from chromadb!=0.5.4,!=0.5.5,<0.6.0,>=0.4.0->langchain-chroma) (1.28.2)\n",
      "Requirement already satisfied: opentelemetry-exporter-otlp-proto-grpc>=1.2.0 in c:\\users\\datalogics\\miniconda3\\envs\\llm_lab\\lib\\site-packages (from chromadb!=0.5.4,!=0.5.5,<0.6.0,>=0.4.0->langchain-chroma) (1.28.2)\n",
      "Requirement already satisfied: opentelemetry-instrumentation-fastapi>=0.41b0 in c:\\users\\datalogics\\miniconda3\\envs\\llm_lab\\lib\\site-packages (from chromadb!=0.5.4,!=0.5.5,<0.6.0,>=0.4.0->langchain-chroma) (0.49b2)\n",
      "Requirement already satisfied: opentelemetry-sdk>=1.2.0 in c:\\users\\datalogics\\miniconda3\\envs\\llm_lab\\lib\\site-packages (from chromadb!=0.5.4,!=0.5.5,<0.6.0,>=0.4.0->langchain-chroma) (1.28.2)\n",
      "Requirement already satisfied: tokenizers<=0.20.3,>=0.13.2 in c:\\users\\datalogics\\miniconda3\\envs\\llm_lab\\lib\\site-packages (from chromadb!=0.5.4,!=0.5.5,<0.6.0,>=0.4.0->langchain-chroma) (0.19.1)\n",
      "Requirement already satisfied: pypika>=0.48.9 in c:\\users\\datalogics\\miniconda3\\envs\\llm_lab\\lib\\site-packages (from chromadb!=0.5.4,!=0.5.5,<0.6.0,>=0.4.0->langchain-chroma) (0.48.9)\n",
      "Requirement already satisfied: tqdm>=4.65.0 in c:\\users\\datalogics\\miniconda3\\envs\\llm_lab\\lib\\site-packages (from chromadb!=0.5.4,!=0.5.5,<0.6.0,>=0.4.0->langchain-chroma) (4.67.1)\n",
      "Requirement already satisfied: overrides>=7.3.1 in c:\\users\\datalogics\\miniconda3\\envs\\llm_lab\\lib\\site-packages (from chromadb!=0.5.4,!=0.5.5,<0.6.0,>=0.4.0->langchain-chroma) (7.7.0)\n",
      "Requirement already satisfied: importlib-resources in c:\\users\\datalogics\\miniconda3\\envs\\llm_lab\\lib\\site-packages (from chromadb!=0.5.4,!=0.5.5,<0.6.0,>=0.4.0->langchain-chroma) (6.4.5)\n",
      "Requirement already satisfied: grpcio>=1.58.0 in c:\\users\\datalogics\\miniconda3\\envs\\llm_lab\\lib\\site-packages (from chromadb!=0.5.4,!=0.5.5,<0.6.0,>=0.4.0->langchain-chroma) (1.68.1)\n",
      "Requirement already satisfied: bcrypt>=4.0.1 in c:\\users\\datalogics\\miniconda3\\envs\\llm_lab\\lib\\site-packages (from chromadb!=0.5.4,!=0.5.5,<0.6.0,>=0.4.0->langchain-chroma) (4.2.1)\n",
      "Requirement already satisfied: typer>=0.9.0 in c:\\users\\datalogics\\miniconda3\\envs\\llm_lab\\lib\\site-packages (from chromadb!=0.5.4,!=0.5.5,<0.6.0,>=0.4.0->langchain-chroma) (0.15.1)\n",
      "Requirement already satisfied: kubernetes>=28.1.0 in c:\\users\\datalogics\\miniconda3\\envs\\llm_lab\\lib\\site-packages (from chromadb!=0.5.4,!=0.5.5,<0.6.0,>=0.4.0->langchain-chroma) (31.0.0)\n",
      "Requirement already satisfied: tenacity>=8.2.3 in c:\\users\\datalogics\\miniconda3\\envs\\llm_lab\\lib\\site-packages (from chromadb!=0.5.4,!=0.5.5,<0.6.0,>=0.4.0->langchain-chroma) (9.0.0)\n",
      "Requirement already satisfied: PyYAML>=6.0.0 in c:\\users\\datalogics\\miniconda3\\envs\\llm_lab\\lib\\site-packages (from chromadb!=0.5.4,!=0.5.5,<0.6.0,>=0.4.0->langchain-chroma) (6.0.2)\n",
      "Requirement already satisfied: mmh3>=4.0.1 in c:\\users\\datalogics\\miniconda3\\envs\\llm_lab\\lib\\site-packages (from chromadb!=0.5.4,!=0.5.5,<0.6.0,>=0.4.0->langchain-chroma) (5.0.1)\n",
      "Requirement already satisfied: orjson>=3.9.12 in c:\\users\\datalogics\\miniconda3\\envs\\llm_lab\\lib\\site-packages (from chromadb!=0.5.4,!=0.5.5,<0.6.0,>=0.4.0->langchain-chroma) (3.10.12)\n",
      "Requirement already satisfied: httpx>=0.27.0 in c:\\users\\datalogics\\miniconda3\\envs\\llm_lab\\lib\\site-packages (from chromadb!=0.5.4,!=0.5.5,<0.6.0,>=0.4.0->langchain-chroma) (0.28.1)\n",
      "Requirement already satisfied: rich>=10.11.0 in c:\\users\\datalogics\\miniconda3\\envs\\llm_lab\\lib\\site-packages (from chromadb!=0.5.4,!=0.5.5,<0.6.0,>=0.4.0->langchain-chroma) (13.9.4)\n",
      "Requirement already satisfied: starlette<0.42.0,>=0.40.0 in c:\\users\\datalogics\\miniconda3\\envs\\llm_lab\\lib\\site-packages (from fastapi<1,>=0.95.2->langchain-chroma) (0.41.3)\n",
      "Requirement already satisfied: jsonpatch<2.0,>=1.33 in c:\\users\\datalogics\\miniconda3\\envs\\llm_lab\\lib\\site-packages (from langchain-core<0.4,>=0.1.40->langchain-chroma) (1.33)\n",
      "Requirement already satisfied: langsmith<0.3,>=0.1.125 in c:\\users\\datalogics\\miniconda3\\envs\\llm_lab\\lib\\site-packages (from langchain-core<0.4,>=0.1.40->langchain-chroma) (0.1.147)\n",
      "Requirement already satisfied: packaging<25,>=23.2 in c:\\users\\datalogics\\miniconda3\\envs\\llm_lab\\lib\\site-packages (from langchain-core<0.4,>=0.1.40->langchain-chroma) (24.2)\n",
      "Requirement already satisfied: pyproject_hooks in c:\\users\\datalogics\\miniconda3\\envs\\llm_lab\\lib\\site-packages (from build>=1.0.3->chromadb!=0.5.4,!=0.5.5,<0.6.0,>=0.4.0->langchain-chroma) (1.2.0)\n",
      "Requirement already satisfied: colorama in c:\\users\\datalogics\\miniconda3\\envs\\llm_lab\\lib\\site-packages (from build>=1.0.3->chromadb!=0.5.4,!=0.5.5,<0.6.0,>=0.4.0->langchain-chroma) (0.4.6)\n",
      "Requirement already satisfied: anyio in c:\\users\\datalogics\\miniconda3\\envs\\llm_lab\\lib\\site-packages (from httpx>=0.27.0->chromadb!=0.5.4,!=0.5.5,<0.6.0,>=0.4.0->langchain-chroma) (4.7.0)\n",
      "Requirement already satisfied: certifi in c:\\users\\datalogics\\miniconda3\\envs\\llm_lab\\lib\\site-packages (from httpx>=0.27.0->chromadb!=0.5.4,!=0.5.5,<0.6.0,>=0.4.0->langchain-chroma) (2024.8.30)\n",
      "Requirement already satisfied: httpcore==1.* in c:\\users\\datalogics\\miniconda3\\envs\\llm_lab\\lib\\site-packages (from httpx>=0.27.0->chromadb!=0.5.4,!=0.5.5,<0.6.0,>=0.4.0->langchain-chroma) (1.0.7)\n",
      "Requirement already satisfied: idna in c:\\users\\datalogics\\miniconda3\\envs\\llm_lab\\lib\\site-packages (from httpx>=0.27.0->chromadb!=0.5.4,!=0.5.5,<0.6.0,>=0.4.0->langchain-chroma) (3.10)\n",
      "Requirement already satisfied: h11<0.15,>=0.13 in c:\\users\\datalogics\\miniconda3\\envs\\llm_lab\\lib\\site-packages (from httpcore==1.*->httpx>=0.27.0->chromadb!=0.5.4,!=0.5.5,<0.6.0,>=0.4.0->langchain-chroma) (0.14.0)\n",
      "Requirement already satisfied: jsonpointer>=1.9 in c:\\users\\datalogics\\miniconda3\\envs\\llm_lab\\lib\\site-packages (from jsonpatch<2.0,>=1.33->langchain-core<0.4,>=0.1.40->langchain-chroma) (3.0.0)\n",
      "Requirement already satisfied: six>=1.9.0 in c:\\users\\datalogics\\miniconda3\\envs\\llm_lab\\lib\\site-packages (from kubernetes>=28.1.0->chromadb!=0.5.4,!=0.5.5,<0.6.0,>=0.4.0->langchain-chroma) (1.17.0)\n",
      "Requirement already satisfied: python-dateutil>=2.5.3 in c:\\users\\datalogics\\miniconda3\\envs\\llm_lab\\lib\\site-packages (from kubernetes>=28.1.0->chromadb!=0.5.4,!=0.5.5,<0.6.0,>=0.4.0->langchain-chroma) (2.9.0.post0)\n",
      "Requirement already satisfied: google-auth>=1.0.1 in c:\\users\\datalogics\\miniconda3\\envs\\llm_lab\\lib\\site-packages (from kubernetes>=28.1.0->chromadb!=0.5.4,!=0.5.5,<0.6.0,>=0.4.0->langchain-chroma) (2.36.0)\n",
      "Requirement already satisfied: websocket-client!=0.40.0,!=0.41.*,!=0.42.*,>=0.32.0 in c:\\users\\datalogics\\miniconda3\\envs\\llm_lab\\lib\\site-packages (from kubernetes>=28.1.0->chromadb!=0.5.4,!=0.5.5,<0.6.0,>=0.4.0->langchain-chroma) (1.8.0)\n",
      "Requirement already satisfied: requests in c:\\users\\datalogics\\miniconda3\\envs\\llm_lab\\lib\\site-packages (from kubernetes>=28.1.0->chromadb!=0.5.4,!=0.5.5,<0.6.0,>=0.4.0->langchain-chroma) (2.32.3)\n",
      "Requirement already satisfied: requests-oauthlib in c:\\users\\datalogics\\miniconda3\\envs\\llm_lab\\lib\\site-packages (from kubernetes>=28.1.0->chromadb!=0.5.4,!=0.5.5,<0.6.0,>=0.4.0->langchain-chroma) (2.0.0)\n",
      "Requirement already satisfied: oauthlib>=3.2.2 in c:\\users\\datalogics\\miniconda3\\envs\\llm_lab\\lib\\site-packages (from kubernetes>=28.1.0->chromadb!=0.5.4,!=0.5.5,<0.6.0,>=0.4.0->langchain-chroma) (3.2.2)\n",
      "Requirement already satisfied: urllib3>=1.24.2 in c:\\users\\datalogics\\miniconda3\\envs\\llm_lab\\lib\\site-packages (from kubernetes>=28.1.0->chromadb!=0.5.4,!=0.5.5,<0.6.0,>=0.4.0->langchain-chroma) (2.2.3)\n",
      "Requirement already satisfied: durationpy>=0.7 in c:\\users\\datalogics\\miniconda3\\envs\\llm_lab\\lib\\site-packages (from kubernetes>=28.1.0->chromadb!=0.5.4,!=0.5.5,<0.6.0,>=0.4.0->langchain-chroma) (0.9)\n",
      "Requirement already satisfied: requests-toolbelt<2.0.0,>=1.0.0 in c:\\users\\datalogics\\miniconda3\\envs\\llm_lab\\lib\\site-packages (from langsmith<0.3,>=0.1.125->langchain-core<0.4,>=0.1.40->langchain-chroma) (1.0.0)\n",
      "Requirement already satisfied: coloredlogs in c:\\users\\datalogics\\miniconda3\\envs\\llm_lab\\lib\\site-packages (from onnxruntime>=1.14.1->chromadb!=0.5.4,!=0.5.5,<0.6.0,>=0.4.0->langchain-chroma) (15.0.1)\n",
      "Requirement already satisfied: flatbuffers in c:\\users\\datalogics\\miniconda3\\envs\\llm_lab\\lib\\site-packages (from onnxruntime>=1.14.1->chromadb!=0.5.4,!=0.5.5,<0.6.0,>=0.4.0->langchain-chroma) (24.3.25)\n",
      "Requirement already satisfied: protobuf in c:\\users\\datalogics\\miniconda3\\envs\\llm_lab\\lib\\site-packages (from onnxruntime>=1.14.1->chromadb!=0.5.4,!=0.5.5,<0.6.0,>=0.4.0->langchain-chroma) (5.29.1)\n",
      "Requirement already satisfied: sympy in c:\\users\\datalogics\\miniconda3\\envs\\llm_lab\\lib\\site-packages (from onnxruntime>=1.14.1->chromadb!=0.5.4,!=0.5.5,<0.6.0,>=0.4.0->langchain-chroma) (1.13.3)\n",
      "Requirement already satisfied: deprecated>=1.2.6 in c:\\users\\datalogics\\miniconda3\\envs\\llm_lab\\lib\\site-packages (from opentelemetry-api>=1.2.0->chromadb!=0.5.4,!=0.5.5,<0.6.0,>=0.4.0->langchain-chroma) (1.2.15)\n",
      "Requirement already satisfied: importlib-metadata<=8.5.0,>=6.0 in c:\\users\\datalogics\\miniconda3\\envs\\llm_lab\\lib\\site-packages (from opentelemetry-api>=1.2.0->chromadb!=0.5.4,!=0.5.5,<0.6.0,>=0.4.0->langchain-chroma) (8.5.0)\n",
      "Requirement already satisfied: googleapis-common-protos~=1.52 in c:\\users\\datalogics\\miniconda3\\envs\\llm_lab\\lib\\site-packages (from opentelemetry-exporter-otlp-proto-grpc>=1.2.0->chromadb!=0.5.4,!=0.5.5,<0.6.0,>=0.4.0->langchain-chroma) (1.66.0)\n",
      "Requirement already satisfied: opentelemetry-exporter-otlp-proto-common==1.28.2 in c:\\users\\datalogics\\miniconda3\\envs\\llm_lab\\lib\\site-packages (from opentelemetry-exporter-otlp-proto-grpc>=1.2.0->chromadb!=0.5.4,!=0.5.5,<0.6.0,>=0.4.0->langchain-chroma) (1.28.2)\n",
      "Requirement already satisfied: opentelemetry-proto==1.28.2 in c:\\users\\datalogics\\miniconda3\\envs\\llm_lab\\lib\\site-packages (from opentelemetry-exporter-otlp-proto-grpc>=1.2.0->chromadb!=0.5.4,!=0.5.5,<0.6.0,>=0.4.0->langchain-chroma) (1.28.2)\n",
      "Requirement already satisfied: opentelemetry-instrumentation-asgi==0.49b2 in c:\\users\\datalogics\\miniconda3\\envs\\llm_lab\\lib\\site-packages (from opentelemetry-instrumentation-fastapi>=0.41b0->chromadb!=0.5.4,!=0.5.5,<0.6.0,>=0.4.0->langchain-chroma) (0.49b2)\n",
      "Requirement already satisfied: opentelemetry-instrumentation==0.49b2 in c:\\users\\datalogics\\miniconda3\\envs\\llm_lab\\lib\\site-packages (from opentelemetry-instrumentation-fastapi>=0.41b0->chromadb!=0.5.4,!=0.5.5,<0.6.0,>=0.4.0->langchain-chroma) (0.49b2)\n",
      "Requirement already satisfied: opentelemetry-semantic-conventions==0.49b2 in c:\\users\\datalogics\\miniconda3\\envs\\llm_lab\\lib\\site-packages (from opentelemetry-instrumentation-fastapi>=0.41b0->chromadb!=0.5.4,!=0.5.5,<0.6.0,>=0.4.0->langchain-chroma) (0.49b2)\n",
      "Requirement already satisfied: opentelemetry-util-http==0.49b2 in c:\\users\\datalogics\\miniconda3\\envs\\llm_lab\\lib\\site-packages (from opentelemetry-instrumentation-fastapi>=0.41b0->chromadb!=0.5.4,!=0.5.5,<0.6.0,>=0.4.0->langchain-chroma) (0.49b2)\n",
      "Requirement already satisfied: wrapt<2.0.0,>=1.0.0 in c:\\users\\datalogics\\miniconda3\\envs\\llm_lab\\lib\\site-packages (from opentelemetry-instrumentation==0.49b2->opentelemetry-instrumentation-fastapi>=0.41b0->chromadb!=0.5.4,!=0.5.5,<0.6.0,>=0.4.0->langchain-chroma) (1.17.0)\n",
      "Requirement already satisfied: asgiref~=3.0 in c:\\users\\datalogics\\miniconda3\\envs\\llm_lab\\lib\\site-packages (from opentelemetry-instrumentation-asgi==0.49b2->opentelemetry-instrumentation-fastapi>=0.41b0->chromadb!=0.5.4,!=0.5.5,<0.6.0,>=0.4.0->langchain-chroma) (3.8.1)\n",
      "Requirement already satisfied: monotonic>=1.5 in c:\\users\\datalogics\\miniconda3\\envs\\llm_lab\\lib\\site-packages (from posthog>=2.4.0->chromadb!=0.5.4,!=0.5.5,<0.6.0,>=0.4.0->langchain-chroma) (1.6)\n",
      "Requirement already satisfied: backoff>=1.10.0 in c:\\users\\datalogics\\miniconda3\\envs\\llm_lab\\lib\\site-packages (from posthog>=2.4.0->chromadb!=0.5.4,!=0.5.5,<0.6.0,>=0.4.0->langchain-chroma) (2.2.1)\n",
      "Requirement already satisfied: annotated-types>=0.6.0 in c:\\users\\datalogics\\miniconda3\\envs\\llm_lab\\lib\\site-packages (from pydantic>=1.9->chromadb!=0.5.4,!=0.5.5,<0.6.0,>=0.4.0->langchain-chroma) (0.7.0)\n",
      "Requirement already satisfied: pydantic-core==2.27.1 in c:\\users\\datalogics\\miniconda3\\envs\\llm_lab\\lib\\site-packages (from pydantic>=1.9->chromadb!=0.5.4,!=0.5.5,<0.6.0,>=0.4.0->langchain-chroma) (2.27.1)\n",
      "Requirement already satisfied: markdown-it-py>=2.2.0 in c:\\users\\datalogics\\miniconda3\\envs\\llm_lab\\lib\\site-packages (from rich>=10.11.0->chromadb!=0.5.4,!=0.5.5,<0.6.0,>=0.4.0->langchain-chroma) (3.0.0)\n",
      "Requirement already satisfied: pygments<3.0.0,>=2.13.0 in c:\\users\\datalogics\\miniconda3\\envs\\llm_lab\\lib\\site-packages (from rich>=10.11.0->chromadb!=0.5.4,!=0.5.5,<0.6.0,>=0.4.0->langchain-chroma) (2.18.0)\n",
      "Requirement already satisfied: huggingface-hub<1.0,>=0.16.4 in c:\\users\\datalogics\\miniconda3\\envs\\llm_lab\\lib\\site-packages (from tokenizers<=0.20.3,>=0.13.2->chromadb!=0.5.4,!=0.5.5,<0.6.0,>=0.4.0->langchain-chroma) (0.26.5)\n",
      "Requirement already satisfied: click>=8.0.0 in c:\\users\\datalogics\\miniconda3\\envs\\llm_lab\\lib\\site-packages (from typer>=0.9.0->chromadb!=0.5.4,!=0.5.5,<0.6.0,>=0.4.0->langchain-chroma) (8.1.7)\n",
      "Requirement already satisfied: shellingham>=1.3.0 in c:\\users\\datalogics\\miniconda3\\envs\\llm_lab\\lib\\site-packages (from typer>=0.9.0->chromadb!=0.5.4,!=0.5.5,<0.6.0,>=0.4.0->langchain-chroma) (1.5.4)\n",
      "Requirement already satisfied: httptools>=0.6.3 in c:\\users\\datalogics\\miniconda3\\envs\\llm_lab\\lib\\site-packages (from uvicorn[standard]>=0.18.3->chromadb!=0.5.4,!=0.5.5,<0.6.0,>=0.4.0->langchain-chroma) (0.6.4)\n",
      "Requirement already satisfied: python-dotenv>=0.13 in c:\\users\\datalogics\\miniconda3\\envs\\llm_lab\\lib\\site-packages (from uvicorn[standard]>=0.18.3->chromadb!=0.5.4,!=0.5.5,<0.6.0,>=0.4.0->langchain-chroma) (1.0.1)\n",
      "Requirement already satisfied: watchfiles>=0.13 in c:\\users\\datalogics\\miniconda3\\envs\\llm_lab\\lib\\site-packages (from uvicorn[standard]>=0.18.3->chromadb!=0.5.4,!=0.5.5,<0.6.0,>=0.4.0->langchain-chroma) (1.0.3)\n",
      "Requirement already satisfied: websockets>=10.4 in c:\\users\\datalogics\\miniconda3\\envs\\llm_lab\\lib\\site-packages (from uvicorn[standard]>=0.18.3->chromadb!=0.5.4,!=0.5.5,<0.6.0,>=0.4.0->langchain-chroma) (14.1)\n",
      "Requirement already satisfied: sniffio>=1.1 in c:\\users\\datalogics\\miniconda3\\envs\\llm_lab\\lib\\site-packages (from anyio->httpx>=0.27.0->chromadb!=0.5.4,!=0.5.5,<0.6.0,>=0.4.0->langchain-chroma) (1.3.1)\n",
      "Requirement already satisfied: cachetools<6.0,>=2.0.0 in c:\\users\\datalogics\\miniconda3\\envs\\llm_lab\\lib\\site-packages (from google-auth>=1.0.1->kubernetes>=28.1.0->chromadb!=0.5.4,!=0.5.5,<0.6.0,>=0.4.0->langchain-chroma) (5.5.0)\n",
      "Requirement already satisfied: pyasn1-modules>=0.2.1 in c:\\users\\datalogics\\miniconda3\\envs\\llm_lab\\lib\\site-packages (from google-auth>=1.0.1->kubernetes>=28.1.0->chromadb!=0.5.4,!=0.5.5,<0.6.0,>=0.4.0->langchain-chroma) (0.4.1)\n",
      "Requirement already satisfied: rsa<5,>=3.1.4 in c:\\users\\datalogics\\miniconda3\\envs\\llm_lab\\lib\\site-packages (from google-auth>=1.0.1->kubernetes>=28.1.0->chromadb!=0.5.4,!=0.5.5,<0.6.0,>=0.4.0->langchain-chroma) (4.9)\n",
      "Requirement already satisfied: filelock in c:\\users\\datalogics\\miniconda3\\envs\\llm_lab\\lib\\site-packages (from huggingface-hub<1.0,>=0.16.4->tokenizers<=0.20.3,>=0.13.2->chromadb!=0.5.4,!=0.5.5,<0.6.0,>=0.4.0->langchain-chroma) (3.16.1)\n",
      "Requirement already satisfied: fsspec>=2023.5.0 in c:\\users\\datalogics\\miniconda3\\envs\\llm_lab\\lib\\site-packages (from huggingface-hub<1.0,>=0.16.4->tokenizers<=0.20.3,>=0.13.2->chromadb!=0.5.4,!=0.5.5,<0.6.0,>=0.4.0->langchain-chroma) (2024.10.0)\n",
      "Requirement already satisfied: zipp>=3.20 in c:\\users\\datalogics\\miniconda3\\envs\\llm_lab\\lib\\site-packages (from importlib-metadata<=8.5.0,>=6.0->opentelemetry-api>=1.2.0->chromadb!=0.5.4,!=0.5.5,<0.6.0,>=0.4.0->langchain-chroma) (3.21.0)\n",
      "Requirement already satisfied: mdurl~=0.1 in c:\\users\\datalogics\\miniconda3\\envs\\llm_lab\\lib\\site-packages (from markdown-it-py>=2.2.0->rich>=10.11.0->chromadb!=0.5.4,!=0.5.5,<0.6.0,>=0.4.0->langchain-chroma) (0.1.2)\n",
      "Requirement already satisfied: charset_normalizer<4,>=2 in c:\\users\\datalogics\\miniconda3\\envs\\llm_lab\\lib\\site-packages (from requests->kubernetes>=28.1.0->chromadb!=0.5.4,!=0.5.5,<0.6.0,>=0.4.0->langchain-chroma) (3.4.0)\n",
      "Requirement already satisfied: humanfriendly>=9.1 in c:\\users\\datalogics\\miniconda3\\envs\\llm_lab\\lib\\site-packages (from coloredlogs->onnxruntime>=1.14.1->chromadb!=0.5.4,!=0.5.5,<0.6.0,>=0.4.0->langchain-chroma) (10.0)\n",
      "Requirement already satisfied: mpmath<1.4,>=1.1.0 in c:\\users\\datalogics\\miniconda3\\envs\\llm_lab\\lib\\site-packages (from sympy->onnxruntime>=1.14.1->chromadb!=0.5.4,!=0.5.5,<0.6.0,>=0.4.0->langchain-chroma) (1.3.0)\n",
      "Requirement already satisfied: pyreadline3 in c:\\users\\datalogics\\miniconda3\\envs\\llm_lab\\lib\\site-packages (from humanfriendly>=9.1->coloredlogs->onnxruntime>=1.14.1->chromadb!=0.5.4,!=0.5.5,<0.6.0,>=0.4.0->langchain-chroma) (3.5.4)\n",
      "Requirement already satisfied: pyasn1<0.7.0,>=0.4.6 in c:\\users\\datalogics\\miniconda3\\envs\\llm_lab\\lib\\site-packages (from pyasn1-modules>=0.2.1->google-auth>=1.0.1->kubernetes>=28.1.0->chromadb!=0.5.4,!=0.5.5,<0.6.0,>=0.4.0->langchain-chroma) (0.6.1)\n",
      "Note: you may need to restart the kernel to use updated packages.\n",
      "Note: you may need to restart the kernel to use updated packages.\n"
     ]
    }
   ],
   "execution_count": 1
  },
  {
   "metadata": {
    "ExecuteTime": {
     "end_time": "2024-12-11T10:21:07.086509Z",
     "start_time": "2024-12-11T10:20:57.583845Z"
    }
   },
   "cell_type": "code",
   "source": [
    "from langchain_community.document_loaders import Docx2txtLoader\n",
    "from langchain_text_splitters import RecursiveCharacterTextSplitter\n",
    "\n",
    "text_splitter = RecursiveCharacterTextSplitter(\n",
    "    chunk_size=1500,    # 문서를 쪼갤 때 하나의 chunk 가 가지는 토큰 수\n",
    "    chunk_overlap=200,  # 텍스트를 분할할 때, 각 chunk(조각) 사이에 중복되는 부분의 토큰 수\n",
    ")\n",
    "\n",
    "loader = Docx2txtLoader('./tax.docx')\n",
    "document = loader.load()                                           #단순히 문서를 읽을 때\n",
    "document_list = loader.load_and_split(text_splitter=text_splitter) # 문서를 쪼갤 때"
   ],
   "id": "6a9dc38d8254582a",
   "outputs": [],
   "execution_count": 2
  },
  {
   "metadata": {
    "ExecuteTime": {
     "end_time": "2024-12-11T10:21:07.478225Z",
     "start_time": "2024-12-11T10:21:07.474386Z"
    }
   },
   "cell_type": "code",
   "source": [
    "print('쪼개기 전 문서 : ',len(document))\n",
    "print('쪼갠 문서 : ',len(document_list))"
   ],
   "id": "163a4e59bb688d44",
   "outputs": [
    {
     "name": "stdout",
     "output_type": "stream",
     "text": [
      "쪼개기 전 문서 :  1\n",
      "쪼갠 문서 :  220\n"
     ]
    }
   ],
   "execution_count": 3
  },
  {
   "metadata": {
    "ExecuteTime": {
     "end_time": "2024-12-11T10:21:09.384827Z",
     "start_time": "2024-12-11T10:21:07.497925Z"
    }
   },
   "cell_type": "code",
   "source": [
    "from dotenv import load_dotenv                # OpenAI API Key 사용을 위해 환경변수 등록\n",
    "from langchain_openai import OpenAIEmbeddings # OpenAI 의 Embedding을 사용\n",
    "\n",
    "load_dotenv() # 환경변수 불러오기\n",
    "\n",
    "embeddings = OpenAIEmbeddings(model='text-embedding-3-large') # 기본모델은 002인 예전모델이다. 신규 모델을 사용하기 위해 추가"
   ],
   "id": "8d2dc97ec1f7894a",
   "outputs": [
    {
     "name": "stderr",
     "output_type": "stream",
     "text": [
      "Python-dotenv could not parse statement starting at line 2\n"
     ]
    }
   ],
   "execution_count": 4
  },
  {
   "metadata": {
    "ExecuteTime": {
     "end_time": "2024-12-11T10:21:18.625703Z",
     "start_time": "2024-12-11T10:21:09.389834Z"
    }
   },
   "cell_type": "code",
   "source": [
    "from langchain_chroma import Chroma\n",
    "\n",
    "database = Chroma.from_documents(documents=document_list, embedding=embeddings, collection_name='chroma_tax',persist_directory=\"./chroma\") # 쪼개놓은 데이터와 임베딩 모델을 넣어준다."
   ],
   "id": "20bafb22f83a008a",
   "outputs": [
    {
     "name": "stderr",
     "output_type": "stream",
     "text": [
      "Python-dotenv could not parse statement starting at line 2\n",
      "Python-dotenv could not parse statement starting at line 2\n",
      "Python-dotenv could not parse statement starting at line 2\n",
      "Python-dotenv could not parse statement starting at line 2\n",
      "Python-dotenv could not parse statement starting at line 2\n",
      "Python-dotenv could not parse statement starting at line 2\n",
      "Python-dotenv could not parse statement starting at line 2\n",
      "Python-dotenv could not parse statement starting at line 2\n"
     ]
    }
   ],
   "execution_count": 5
  },
  {
   "metadata": {
    "ExecuteTime": {
     "end_time": "2024-12-11T10:21:19.634212Z",
     "start_time": "2024-12-11T10:21:18.649528Z"
    }
   },
   "cell_type": "code",
   "source": [
    "query = '연봉 3000만원인 직장인의 소득세는 얼마인가요?'\n",
    "retrieved_docs = database.similarity_search(query, 1); # similarity_search() 함수는 유사도 검색을 위한 함수이다."
   ],
   "id": "eac222de56590863",
   "outputs": [],
   "execution_count": 6
  },
  {
   "metadata": {
    "ExecuteTime": {
     "end_time": "2024-12-11T10:21:19.663687Z",
     "start_time": "2024-12-11T10:21:19.657077Z"
    }
   },
   "cell_type": "code",
   "source": "retrieved_docs",
   "id": "88df3640c9e8ae5a",
   "outputs": [
    {
     "data": {
      "text/plain": [
       "[Document(metadata={'source': './tax.docx'}, page_content='1. 「공익신탁법」에 따른 공익신탁의 이익\\n\\n2. 사업소득 중 다음 각 목의 어느 하나에 해당하는 소득\\n\\n가. 논ㆍ밭을 작물 생산에 이용하게 함으로써 발생하는 소득\\n\\n나. 1개의 주택을 소유하는 자의 주택임대소득(제99조에 따른 기준시가가 12억원을 초과하는 주택 및 국외에 소재하는 주택의 임대소득은 제외한다) 또는 해당 과세기간에 대통령령으로 정하는 총수입금액의 합계액이 2천만원 이하인 자의 주택임대소득(2018년 12월 31일 이전에 끝나는 과세기간까지 발생하는 소득으로 한정한다). 이 경우 주택 수의 계산 및 주택임대소득의 산정 등 필요한 사항은 대통령령으로 정한다.\\n\\n다. 대통령령으로 정하는 농어가부업소득\\n\\n라. 대통령령으로 정하는 전통주의 제조에서 발생하는 소득\\n\\n마. 조림기간 5년 이상인 임지(林地)의 임목(林木)의 벌채 또는 양도로 발생하는 소득으로서 연 600만원 이하의 금액. 이 경우 조림기간 및 세액의 계산 등 필요한 사항은 대통령령으로 정한다.\\n\\n바. 대통령령으로 정하는 작물재배업에서 발생하는 소득\\n\\n사. 대통령령으로 정하는 어로어업 또는 양식어업에서 발생하는 소득\\n\\n3. 근로소득과 퇴직소득 중 다음 각 목의 어느 하나에 해당하는 소득\\n\\n가. 대통령령으로 정하는 복무 중인 병(兵)이 받는 급여\\n\\n나. 법률에 따라 동원된 사람이 그 동원 직장에서 받는 급여\\n\\n다. 「산업재해보상보험법」에 따라 수급권자가 받는 요양급여, 휴업급여, 장해급여, 간병급여, 유족급여, 유족특별급여, 장해특별급여, 장의비 또는 근로의 제공으로 인한 부상ㆍ질병ㆍ사망과 관련하여 근로자나 그 유족이 받는 배상ㆍ보상 또는 위자(慰藉)의 성질이 있는 급여\\n\\n라. 「근로기준법」 또는 「선원법」에 따라 근로자ㆍ선원 및 그 유족이 받는 요양보상금, 휴업보상금, 상병보상금(傷病補償金), 일시보상금, 장해보상금, 유족보상금, 행방불명보상금, 소지품 유실보상금, 장의비 및 장제비\\n\\n마. 「고용보험법」에 따라 받는 실업급여, 육아휴직 급여, 육아기 근로시간 단축 급여, 출산전후휴가 급여등, 「제대군인 지원에 관한 법률」에 따라 받는 전직지원금, 「국가공무원법」ㆍ「지방공무원법」에 따른 공무원 또는 「사립학교교직원 연금법」ㆍ「별정우체국법」을 적용받는 사람이 관련 법령에 따라 받는 육아휴직수당(「사립학교법」 제70조의2에 따라 임명된 사무직원이 학교의 정관 또는 규칙에 따라 지급받는 육아휴직수당으로서 대통령령으로 정하는 금액 이하의 것을 포함한다)\\n\\n바. 「국민연금법」에 따라 받는 반환일시금(사망으로 받는 것만 해당한다) 및 사망일시금')]"
      ]
     },
     "execution_count": 7,
     "metadata": {},
     "output_type": "execute_result"
    }
   ],
   "execution_count": 7
  },
  {
   "metadata": {
    "ExecuteTime": {
     "end_time": "2024-12-11T10:21:20.549656Z",
     "start_time": "2024-12-11T10:21:19.676114Z"
    }
   },
   "cell_type": "code",
   "source": [
    "from langchain_openai import ChatOpenAI\n",
    "\n",
    "llm = ChatOpenAI(model='gpt-4o')"
   ],
   "id": "8087ad2c7b0f574c",
   "outputs": [],
   "execution_count": 8
  },
  {
   "metadata": {
    "ExecuteTime": {
     "end_time": "2024-12-11T10:21:20.566238Z",
     "start_time": "2024-12-11T10:21:20.560616Z"
    }
   },
   "cell_type": "code",
   "source": [
    "# 기존에는 질문만 날렸지만 이제는 질문+문서 를 질의한다. 즉, 프롬프트 작성\n",
    "prompt = f\"\"\"[Identity]\n",
    "- 당신은 현존하는 세계 최고의 한국 소득세 전문가 입니다\n",
    "- [Context]를 참고해서 사용자의 질문에 답변해주세요\n",
    "\n",
    "[Context]\n",
    "{retrieved_docs}\n",
    "\n",
    "Question: {query}\n",
    "\"\"\"\n"
   ],
   "id": "4bc00ad4e4bb58fc",
   "outputs": [],
   "execution_count": 9
  },
  {
   "metadata": {
    "ExecuteTime": {
     "end_time": "2024-12-11T10:21:58.585513Z",
     "start_time": "2024-12-11T10:21:20.576682Z"
    }
   },
   "cell_type": "code",
   "source": "ai_message = llm.invoke(prompt)",
   "id": "292fc825079b3caf",
   "outputs": [],
   "execution_count": 10
  },
  {
   "metadata": {
    "ExecuteTime": {
     "end_time": "2024-12-11T10:21:58.601857Z",
     "start_time": "2024-12-11T10:21:58.596856Z"
    }
   },
   "cell_type": "code",
   "source": "ai_message.content",
   "id": "196264fe62063c73",
   "outputs": [
    {
     "data": {
      "text/plain": [
       "'연봉 3000만원인 직장인의 소득세를 계산하기 위해서는 몇 가지 추가적인 정보가 필요합니다. 소득세는 과세표준에 따라 달라지며, 과세표준은 총급여액에서 여러 가지 공제 항목을 제외한 금액입니다. 일반적으로 소득세 계산 과정은 다음과 같습니다:\\n\\n1. **총급여액**: 연봉 3000만원.\\n2. **근로소득공제**: 총급여액에 따라 산정되며, 구체적인 계산식은 다음과 같습니다:\\n    - 총급여액이 500만원 이하인 경우: 총급여액의 70%\\n    - 500만원 초과 1,500만원 이하인 경우: 350만원 + (총급여액 - 500만원) × 40%\\n    - 1,500만원 초과 4,500만원 이하인 경우: 750만원 + (총급여액 - 1,500만원) × 15%\\n    - 4,500만원 초과 1억원 이하인 경우: 1,200만원 + (총급여액 - 4,500만원) × 5%\\n    - 1억원 초과인 경우: 1,475만원 + (총급여액 - 1억원) × 2%\\n\\n3. **과세표준**: 총급여액에서 근로소득공제와 기타 공제(인적공제, 특별공제 등)를 차감한 금액.\\n\\n4. **세율 적용**: 과세표준에 대해 해당하는 세율을 적용하여 산출세액을 계산합니다. 현재 대한민국의 소득세율은 다음과 같습니다:\\n    - 1,200만원 이하: 6%\\n    - 1,200만원 초과 4,600만원 이하: 15%\\n    - 4,600만원 초과 8,800만원 이하: 24%\\n    - 8,800만원 초과 1억 5천만원 이하: 35%\\n    - 1억 5천만원 초과 3억원 이하: 38%\\n    - 3억원 초과 5억원 이하: 40%\\n    - 5억원 초과: 42%\\n\\n5. **세액공제**: 산출세액에서 각종 세액공제를 차감하여 최종 소득세액을 결정합니다.\\n\\n예를 들어, 연봉 3000만원인 직장인의 경우, 근로소득공제는 750만원 + (3000만원 - 1500만원) × 15% = 975만원이 됩니다. 따라서 과세표준은 3000만원 - 975만원 = 2025만원이 됩니다. 이 금액에 대해 15%의 세율을 적용하면 산출세액은 2025만원 × 15% = 303.75만원이 됩니다. 여기에 세액공제를 적용하면 최종 소득세액이 결정됩니다.\\n\\n정확한 소득세를 계산하기 위해서는 위의 공제 항목들을 모두 고려해야 하며, 개인의 구체적인 상황에 따라 달라질 수 있습니다.'"
      ]
     },
     "execution_count": 11,
     "metadata": {},
     "output_type": "execute_result"
    }
   ],
   "execution_count": 11
  },
  {
   "metadata": {
    "ExecuteTime": {
     "end_time": "2024-12-11T10:21:59.817548Z",
     "start_time": "2024-12-11T10:21:58.633506Z"
    }
   },
   "cell_type": "code",
   "source": [
    "from langchain import hub\n",
    "\n",
    "prompt = hub.pull(\"rlm/rag-prompt\")"
   ],
   "id": "de6e9b7de5d80b00",
   "outputs": [
    {
     "name": "stderr",
     "output_type": "stream",
     "text": [
      "C:\\Users\\DataLogics\\miniconda3\\envs\\llm_lab\\Lib\\site-packages\\langsmith\\client.py:241: LangSmithMissingAPIKeyWarning: API key must be provided when using hosted LangSmith API\n",
      "  warnings.warn(\n"
     ]
    }
   ],
   "execution_count": 12
  },
  {
   "metadata": {
    "ExecuteTime": {
     "end_time": "2024-12-11T10:21:59.845994Z",
     "start_time": "2024-12-11T10:21:59.840007Z"
    }
   },
   "cell_type": "code",
   "source": "prompt",
   "id": "74eb38bab06165aa",
   "outputs": [
    {
     "data": {
      "text/plain": [
       "ChatPromptTemplate(input_variables=['context', 'question'], input_types={}, partial_variables={}, metadata={'lc_hub_owner': 'rlm', 'lc_hub_repo': 'rag-prompt', 'lc_hub_commit_hash': '50442af133e61576e74536c6556cefe1fac147cad032f4377b60c436e6cdcb6e'}, messages=[HumanMessagePromptTemplate(prompt=PromptTemplate(input_variables=['context', 'question'], input_types={}, partial_variables={}, template=\"You are an assistant for question-answering tasks. Use the following pieces of retrieved context to answer the question. If you don't know the answer, just say that you don't know. Use three sentences maximum and keep the answer concise.\\nQuestion: {question} \\nContext: {context} \\nAnswer:\"), additional_kwargs={})])"
      ]
     },
     "execution_count": 13,
     "metadata": {},
     "output_type": "execute_result"
    }
   ],
   "execution_count": 13
  },
  {
   "metadata": {
    "ExecuteTime": {
     "end_time": "2024-12-11T10:22:00.105921Z",
     "start_time": "2024-12-11T10:21:59.851001Z"
    }
   },
   "cell_type": "code",
   "source": [
    "# QA Chain 만들기\n",
    "from langchain.chains import RetrievalQA\n",
    "\n",
    "qa_chain = RetrievalQA.from_chain_type(\n",
    "    llm,\n",
    "    retriever=database.as_retriever(),\n",
    "    chain_type_kwargs={\"prompt\":prompt}\n",
    ")"
   ],
   "id": "eb8e2b3b73e77d8f",
   "outputs": [],
   "execution_count": 14
  },
  {
   "metadata": {
    "ExecuteTime": {
     "end_time": "2024-12-11T10:22:02.570030Z",
     "start_time": "2024-12-11T10:22:00.118106Z"
    }
   },
   "cell_type": "code",
   "source": "ai_message = qa_chain({\"query\" : query})",
   "id": "cc2a6d8c75fa004f",
   "outputs": [
    {
     "name": "stderr",
     "output_type": "stream",
     "text": [
      "C:\\Users\\DataLogics\\AppData\\Local\\Temp\\ipykernel_41944\\914447175.py:1: LangChainDeprecationWarning: The method `Chain.__call__` was deprecated in langchain 0.1.0 and will be removed in 1.0. Use :meth:`~invoke` instead.\n",
      "  ai_message = qa_chain({\"query\" : query})\n"
     ]
    }
   ],
   "execution_count": 15
  },
  {
   "metadata": {
    "ExecuteTime": {
     "end_time": "2024-12-11T10:22:02.588340Z",
     "start_time": "2024-12-11T10:22:02.583127Z"
    }
   },
   "cell_type": "code",
   "source": "ai_message",
   "id": "1a70200b7b136b54",
   "outputs": [
    {
     "data": {
      "text/plain": [
       "{'query': '연봉 3000만원인 직장인의 소득세는 얼마인가요?',\n",
       " 'result': '죄송하지만 제공된 컨텍스트에서 연봉 3000만원인 직장인의 소득세 계산에 관한 정보는 찾을 수 없습니다. 한국의 소득세율 및 공제 항목에 따라 달라질 수 있으므로, 구체적인 세율표나 세무사의 조언을 참고하시기 바랍니다.'}"
      ]
     },
     "execution_count": 16,
     "metadata": {},
     "output_type": "execute_result"
    }
   ],
   "execution_count": 16
  }
 ],
 "metadata": {
  "kernelspec": {
   "name": "python3",
   "language": "python",
   "display_name": "Python 3 (ipykernel)"
  }
 },
 "nbformat": 5,
 "nbformat_minor": 9
}
